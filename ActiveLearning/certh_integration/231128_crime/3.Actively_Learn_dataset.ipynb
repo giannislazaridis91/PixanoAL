{
 "cells": [
  {
   "cell_type": "markdown",
   "metadata": {},
   "source": [
    "# Active Learning with Pixano - CIFAR11 Dataset"
   ]
  },
  {
   "cell_type": "markdown",
   "metadata": {},
   "source": [
    "## initialization of various parameters"
   ]
  },
  {
   "cell_type": "markdown",
   "metadata": {},
   "source": [
    "### Configuration variables"
   ]
  },
  {
   "cell_type": "code",
   "execution_count": 2,
   "metadata": {},
   "outputs": [],
   "source": [
    "# The root dir name of the current repo (i.e. pixano or pixano-main etc.)\n",
    "ROOTDIR='pixano'\n",
    "# directory where CIFAR11 dataset is downloaded using Notebook \"1.convert_dataset_2_explorer.ipynb\"\n",
    "datasets_dir=\"/home/melissap/Desktop/LAGO/3.githubs/integration/datasets/CIFAR11\"\n",
    "# name of the dataset as defined in \"1.convert_dataset_2_explorer.ipynb\"\n",
    "DATASET_NAME=\"CIFAR11_guns_pixano_v1\"\n",
    "# directory where the raw CIFAR11 dataset will be saved to be transformed latter (images), and also to be used by the active learning auto-annotator (labels)\n",
    "pixano_datasets_dir='/home/melissap/_pixano_datasets_'\n",
    "# conda env name builded for running the active learning module as a separate program\n",
    "customLearnerCondaEnv=\"customLearner\"\n",
    "# ActiveLearning module's directory\n",
    "ALModule=\"ActiveLearning\""
   ]
  },
  {
   "cell_type": "markdown",
   "metadata": {},
   "source": [
    "### internal experimental variables (that could be defined by the user)"
   ]
  },
  {
   "cell_type": "code",
   "execution_count": 3,
   "metadata": {},
   "outputs": [],
   "source": [
    "labels_per_round=2000\n",
    "numInitLabels = labels_per_round\n",
    "learning_rate=0.001\n",
    "max_epochs_per_round=100\n",
    "model_name=\"resnet18\" \n",
    "strategy=\"CoreSet\" #i.e. other alternatives may be : EntropySampling #RandomSampling"
   ]
  },
  {
   "cell_type": "markdown",
   "metadata": {},
   "source": [
    "### External experimental variables"
   ]
  },
  {
   "cell_type": "code",
   "execution_count": 4,
   "metadata": {},
   "outputs": [],
   "source": [
    "num_rounds = 10"
   ]
  },
  {
   "cell_type": "markdown",
   "metadata": {},
   "source": [
    "## ... the rest of the notebook should run without any code adjustments/modifications."
   ]
  },
  {
   "cell_type": "markdown",
   "metadata": {},
   "source": [
    "> import ROOT dir to import pixano root module , which is the pixano directory"
   ]
  },
  {
   "cell_type": "code",
   "execution_count": 5,
   "metadata": {},
   "outputs": [
    {
     "name": "stdout",
     "output_type": "stream",
     "text": [
      "Inserting parent dir :  /home/melissap/Desktop/LAGO_43integrationDemo/pixano\n"
     ]
    }
   ],
   "source": [
    "import os\n",
    "import sys\n",
    "\n",
    "def insertRootDir(ROOTDIR='pixano'):\n",
    "    pardir=os.path.dirname(os.path.realpath('__file__'))\n",
    "\n",
    "    found = False\n",
    "    potential_root_dir = os.path.basename(os.path.dirname(os.path.dirname(os.path.dirname(os.path.dirname(os.path.realpath('__file__'))))))\n",
    "\n",
    "    while(os.path.basename(pardir)!=ROOTDIR):\n",
    "\n",
    "        # print(pardir)\n",
    "        pardir=os.path.dirname(pardir)\n",
    "        \n",
    "\n",
    "        if (os.path.basename(pardir) == ROOTDIR):\n",
    "            found = True\n",
    "            break\n",
    "        if (pardir == \"/\" ):\n",
    "            break\n",
    "    \n",
    "    if found:\n",
    "        print(\"Inserting parent dir : \",pardir)\n",
    "        sys.path.insert(0,pardir)\n",
    "        return pardir\n",
    "    else:\n",
    "        print(f\"ROOTDIR NOT FOUND. You may have to change ROOTDIR variable from : '{ROOTDIR}' to '{potential_root_dir}'\")\n",
    "        return \"_NOT_FOUND_\"\n",
    "\n",
    "ROOTDIR = insertRootDir(ROOTDIR)"
   ]
  },
  {
   "cell_type": "code",
   "execution_count": 6,
   "metadata": {},
   "outputs": [],
   "source": [
    "ALModuleDir = os.path.join(ROOTDIR,ALModule)"
   ]
  },
  {
   "cell_type": "code",
   "execution_count": 7,
   "metadata": {},
   "outputs": [],
   "source": [
    "from pathlib import Path\n",
    "from pixano.data import ImageImporter"
   ]
  },
  {
   "cell_type": "code",
   "execution_count": 8,
   "metadata": {},
   "outputs": [],
   "source": [
    "library_dir=Path(pixano_datasets_dir) # directory where we have install the pixano formatted dataset\n",
    "import_dir = library_dir / DATASET_NAME"
   ]
  },
  {
   "cell_type": "code",
   "execution_count": 10,
   "metadata": {},
   "outputs": [],
   "source": [
    "import random\n",
    "import lancedb\n",
    "import pyarrow as pa\n",
    "import numpy as np\n",
    "import pandas as pd\n",
    "from PIL import Image\n",
    "from ActiveLearning.ALearner import (\n",
    "    Learner,\n",
    "    BaseAnnotator,\n",
    "    BaseSampler,\n",
    "    BaseTrainer,\n",
    "    getLabels,\n",
    "    getLabelledIds,\n",
    "    getUnlabelledIds,\n",
    "    getTaggedIds,\n",
    "    getLastRound,\n",
    "    ddb_str,\n",
    "    custom_update,\n",
    "    importTestLabels\n",
    ")\n",
    "from pixano.utils import natural_key"
   ]
  },
  {
   "cell_type": "code",
   "execution_count": 11,
   "metadata": {},
   "outputs": [],
   "source": [
    "from ActiveLearning.customTrainer import customTrainer\n",
    "from ActiveLearning.customSampler import customSampler"
   ]
  },
  {
   "cell_type": "code",
   "execution_count": 12,
   "metadata": {},
   "outputs": [],
   "source": [
    "# utility function to convert id (format \"<index>.png\") to index\n",
    "def id_to_idx(id: str) -> int:\n",
    "    return int(id.split(\".\")[0])\n",
    "    # return int(id[0:-4])  #remove the last 4 chars (\".png\")"
   ]
  },
  {
   "cell_type": "code",
   "execution_count": 17,
   "metadata": {},
   "outputs": [],
   "source": [
    "cifar11_db = lancedb.connect(import_dir)"
   ]
  },
  {
   "cell_type": "markdown",
   "metadata": {},
   "source": [
    "## Model Trainer Object\n",
    "\n",
    "We will get raw x_train, x_test, y_test data directly from CIFAR11.\n",
    "\n",
    "2 proposed Model Trainer Objects, with same model: SimpleTrainer and IncrementalTrainer"
   ]
  },
  {
   "cell_type": "code",
   "execution_count": 19,
   "metadata": {},
   "outputs": [],
   "source": [
    "def get_CIFAR11(data_dir):\n",
    "\n",
    "    image_dir = os.path.join(data_dir,\"images\")\n",
    "    train_imdir = os.path.join(image_dir,\"train\")\n",
    "    test_imdir = os.path.join(image_dir,\"test\")\n",
    "\n",
    "    annotation_dir = os.path.join(data_dir,\"annotations\")\n",
    "    train_anfile = os.path.join(annotation_dir,\"train.csv\")\n",
    "    test_anfile = os.path.join(annotation_dir,\"test.csv\")\n",
    "\n",
    "    # read sorted file names     \n",
    "    X_train = sorted(os.listdir(train_imdir), key=lambda x: int(x.split('.', 1)[0])) \n",
    "    X_test = sorted(os.listdir(test_imdir), key=lambda x: int(x.split('.', 1)[0]))\n",
    "    \n",
    "    # X_train = np.array([Image.open(os.path.join(train_imdir,x)) for x in X_train])\n",
    "    # X_test = np.array([Image.open(os.path.join(test_imdir,x)) for x in X_test])\n",
    "\n",
    "    # # read labels\n",
    "    Y_train = pd.read_csv(train_anfile).values #.to_numpy(dtype=np.uint8)\n",
    "    Y_test = pd.read_csv(test_anfile).values #.to_numpy(dtype=np.uint8)\n",
    "\n",
    "    Y_train = np.array([y[0] for y in Y_train], dtype=np.uint8)\n",
    "    Y_test = np.array([y[0] for y in Y_test], dtype=np.uint8)\n",
    "\n",
    "    return (X_train,Y_train),(X_test,Y_test)\n",
    "\n",
    "(X_train, Y_train), (X_test, Y_test) = get_CIFAR11(datasets_dir)"
   ]
  },
  {
   "cell_type": "markdown",
   "metadata": {},
   "source": [
    "## Query Sampler Object\n",
    "<!-- RandomSampler or SequentialSampler -->"
   ]
  },
  {
   "cell_type": "markdown",
   "metadata": {},
   "source": [
    "#### Custom Trainer"
   ]
  },
  {
   "cell_type": "markdown",
   "metadata": {},
   "source": [
    "> prepare the directories for data exchange between pixano and annotation tool"
   ]
  },
  {
   "cell_type": "code",
   "execution_count": 20,
   "metadata": {},
   "outputs": [],
   "source": [
    "import shutil\n",
    "\n",
    "# TEMPORARY SOLUTION FOR EXCHANGING DATA BETWEEN PIXANO AND AL\n",
    "def create_dir(path):\n",
    "    try:\n",
    "        if (os.path.basename(path)== \"temp_data\" and os.path.exists(path)):\n",
    "            shutil.rmtree(path) # erase the previous results\n",
    "        os.makedirs(path)\n",
    "    except:\n",
    "        print(f'Dir {path} exists already')\n",
    "    return path\n",
    "\n",
    "# here define the paths of exchanging data between pixano and the customLearner\n",
    "temp_data_exchange_dir = create_dir(os.path.join(ROOTDIR,\"temp_data\"))                # define a directory for exchanging data\n",
    "output_queDir = create_dir(os.path.join(temp_data_exchange_dir,\"output_queries\"))       # [out] query strategy results\n",
    "output_accDir = create_dir(os.path.join(temp_data_exchange_dir,\"output_accuracy\"))      # [out] accuracy results "
   ]
  },
  {
   "cell_type": "markdown",
   "metadata": {},
   "source": [
    "## Labeling Interface Objects\n",
    "\n",
    "Human labeling with Pixano Annotator is built-in, here we specify an Auto Annotator"
   ]
  },
  {
   "cell_type": "code",
   "execution_count": 21,
   "metadata": {},
   "outputs": [],
   "source": [
    "class AutoAnnotator(BaseAnnotator):\n",
    "    # custom annotation function\n",
    "    # as we have ground truth for CIFAR11, we can autofill\n",
    "    def annotate(self, round):\n",
    "        candidates = getTaggedIds(self.db, round)\n",
    "        db_tbl = cifar11_db.open_table(\"db\")\n",
    "        custom_update(db_tbl, f\"id in ({ddb_str(candidates)})\", 'label', [str(Y_train[id_to_idx(candidate)]) for candidate in sorted(candidates, key=natural_key)])\n",
    "        print(f\"AutoAnnotator: round {round} annotated.\")"
   ]
  },
  {
   "cell_type": "markdown",
   "metadata": {},
   "source": [
    "## Orchestrator"
   ]
  },
  {
   "cell_type": "markdown",
   "metadata": {},
   "source": [
    "### Initial Learning"
   ]
  },
  {
   "cell_type": "code",
   "execution_count": 22,
   "metadata": {},
   "outputs": [],
   "source": [
    "myTrainer = customTrainer(cifar11_db, \n",
    "                            DATASET_NAME = DATASET_NAME,\n",
    "                            output_accDir = output_accDir,\n",
    "                            import_dir = import_dir,\n",
    "                            customLearnerCondaEnv = customLearnerCondaEnv,\n",
    "                            model_name = model_name, \n",
    "                            learning_rate = learning_rate, \n",
    "                            max_epochs_per_round = max_epochs_per_round,\n",
    "                            strategy_name = strategy)\n",
    "\n",
    "mycustomSampler = customSampler(cifar11_db,\n",
    "                                DATASET_NAME = DATASET_NAME,\n",
    "                                output_queDir = output_queDir,\n",
    "                                import_dir = import_dir,\n",
    "                                customLearnerCondaEnv = customLearnerCondaEnv,\n",
    "                                model_name = model_name, \n",
    "                                strategy_name = strategy, \n",
    "                                number_init_labels = numInitLabels, \n",
    "                                labels_per_round = labels_per_round,\n",
    "                                alpha_opt = True)\n",
    "\n",
    "myTrainer.set_parameter(\"ALearner\",ALModuleDir)\n",
    "mycustomSampler.set_parameter(\"ALearner\",ALModuleDir)\n",
    "\n",
    "autofillAnnotator = AutoAnnotator(cifar11_db)\n",
    "\n",
    "init_learner = Learner(\n",
    "    db=cifar11_db,\n",
    "    trainer=myTrainer,\n",
    "    sampler=mycustomSampler,\n",
    "    custom_annotator=autofillAnnotator,\n",
    "    new_al=True,\n",
    "    verbose=0\n",
    ")"
   ]
  },
  {
   "cell_type": "code",
   "execution_count": 23,
   "metadata": {},
   "outputs": [
    {
     "name": "stdout",
     "output_type": "stream",
     "text": [
      "Importing validation data in /home/melissap/_pixano_datasets_/CIFAR11_guns_pixano_v1\n"
     ]
    }
   ],
   "source": [
    "importTestLabels(cifar11_db,(X_test,Y_test))"
   ]
  },
  {
   "cell_type": "markdown",
   "metadata": {},
   "source": [
    "### Active Learning - Human annotation with Pixano Annotator\n",
    "\n",
    "We add some auto-annotation rounds"
   ]
  },
  {
   "cell_type": "code",
   "execution_count": 24,
   "metadata": {},
   "outputs": [
    {
     "name": "stdout",
     "output_type": "stream",
     "text": [
      "csvQue /home/melissap/Desktop/LAGO_43integrationDemo/pixano/temp_data/output_queries/queries_0.csv\n"
     ]
    },
    {
     "name": "stdout",
     "output_type": "stream",
     "text": [
      "\n",
      "\n",
      "######################################################## AL ROUND 0 mode query : START #########################################################\n",
      "\n",
      "\n",
      "Namespace(mode='query', data_name='CIFAR11_guns_pixano_v1', n_label='None', n_init_lb=2000, n_query=2000, data_dir='/home/melissap/_pixano_datasets_/CIFAR11_guns_pixano_v1', pixano_al_module='/home/melissap/Desktop/LAGO_43integrationDemo/pixano/ActiveLearning', strategy='CoreSet', round=0, train_out=None, query_out='/home/melissap/Desktop/LAGO_43integrationDemo/pixano/temp_data/output_queries/queries_0.csv', seeds=[1, 10, 100, 1000, 10000], init_lb_method='general_random', log_dir='/home/melissap/Desktop/LAGO_43integrationDemo/pixano/ActiveLearning/certh_integration/alpha_mix_active_learning/_logs', save_checkpoints=False, save_images=False, print_to_file=False, query_growth_ratio=1, n_drop=5, eps=0.05, max_iter=50, alpha_cap=0.03125, alpha_opt=False, alpha_closed_form_approx=True, alpha_learning_rate=0.1, alpha_clf_coef=1.0, alpha_l2_coef=0.01, alpha_learning_iters=5, alpha_learn_batch_size=1000000)\n",
      "args.pixano_al_module  /home/melissap/Desktop/LAGO_43integrationDemo/pixano/ActiveLearning\n",
      "Loading data ...\n",
      "number of labeled pool: 0\n",
      "number of unlabeled pool: 55000\n",
      "number of validation pool: 0\n",
      "number of testing pool: 10998\n",
      "Data loaded ...\n",
      "Using cuda device.\n"
     ]
    },
    {
     "name": "stderr",
     "output_type": "stream",
     "text": [
      "/home/melissap/miniconda3/envs/customLearner/lib/python3.10/site-packages/torchvision/models/_utils.py:208: UserWarning: The parameter 'pretrained' is deprecated since 0.13 and may be removed in the future, please use 'weights' instead.\n",
      "  warnings.warn(\n",
      "/home/melissap/miniconda3/envs/customLearner/lib/python3.10/site-packages/torchvision/models/_utils.py:223: UserWarning: Arguments other than a weight enum or `None` for 'weights' are deprecated since 0.13 and may be removed in the future. The current behavior is equivalent to passing `weights=None`.\n",
      "  warnings.warn(msg)\n"
     ]
    },
    {
     "name": "stdout",
     "output_type": "stream",
     "text": [
      "Round 0 tagged\n",
      "2000 candidates on round 0\n",
      "AutoAnnotator: round 0 annotated.\n",
      "\n",
      "\n",
      "######################################################## AL ROUND 0 mode train : START #########################################################\n",
      "\n",
      "\n",
      "Namespace(mode='train', data_name='CIFAR11_guns_pixano_v1', n_label='None', n_init_lb=10, n_query=100, data_dir='/home/melissap/_pixano_datasets_/CIFAR11_guns_pixano_v1', pixano_al_module='/home/melissap/Desktop/LAGO_43integrationDemo/pixano/ActiveLearning', strategy='CoreSet', round=0, train_out='/home/melissap/Desktop/LAGO_43integrationDemo/pixano/temp_data/output_accuracy/accuracy.csv', query_out='path to the file', seeds=[1, 10, 100, 1000, 10000], init_lb_method='general_random', log_dir='/home/melissap/Desktop/LAGO_43integrationDemo/pixano/ActiveLearning/certh_integration/alpha_mix_active_learning/_logs', save_checkpoints=False, save_images=False, print_to_file=False, query_growth_ratio=1, n_drop=5, eps=0.05, max_iter=50, alpha_cap=0.03125, alpha_opt=False, alpha_closed_form_approx=True, alpha_learning_rate=0.1, alpha_clf_coef=1.0, alpha_l2_coef=0.01, alpha_learning_iters=5, alpha_learn_batch_size=1000000)\n",
      "args.pixano_al_module  /home/melissap/Desktop/LAGO_43integrationDemo/pixano/ActiveLearning\n",
      "Loading data ...\n",
      "number of labeled pool: 2000\n",
      "number of unlabeled pool: 53000\n",
      "number of validation pool: 0\n",
      "number of testing pool: 10998\n",
      "Data loaded ...\n",
      "Using cuda device.\n"
     ]
    },
    {
     "name": "stderr",
     "output_type": "stream",
     "text": [
      "/home/melissap/miniconda3/envs/customLearner/lib/python3.10/site-packages/torchvision/models/_utils.py:208: UserWarning: The parameter 'pretrained' is deprecated since 0.13 and may be removed in the future, please use 'weights' instead.\n",
      "  warnings.warn(\n",
      "/home/melissap/miniconda3/envs/customLearner/lib/python3.10/site-packages/torchvision/models/_utils.py:223: UserWarning: Arguments other than a weight enum or `None` for 'weights' are deprecated since 0.13 and may be removed in the future. The current behavior is equivalent to passing `weights=None`.\n",
      "  warnings.warn(msg)\n"
     ]
    },
    {
     "name": "stdout",
     "output_type": "stream",
     "text": [
      "CIFAR11_guns_pixano_v1\n",
      "SEED 1\n",
      "CoreSet\n",
      "Adam optimizer...\n",
      "Training started...\n"
     ]
    },
    {
     "name": "stderr",
     "output_type": "stream",
     "text": [
      " 33%|███▎      | 33/100 [01:08<02:17,  2.05s/it]"
     ]
    },
    {
     "name": "stdout",
     "output_type": "stream",
     "text": [
      "Reached max accuracy at epoch 33 \n"
     ]
    },
    {
     "name": "stderr",
     "output_type": "stream",
     "text": [
      " 33%|███▎      | 33/100 [01:10<02:23,  2.14s/it]\n"
     ]
    },
    {
     "name": "stdout",
     "output_type": "stream",
     "text": [
      "Round 0\n",
      "testing accuracy 0.4328968903436989\n",
      "\n",
      "\n",
      "######################################################### AL ROUND 0 mode train : END ##########################################################\n",
      "\n",
      "\n",
      "csvQue /home/melissap/Desktop/LAGO_43integrationDemo/pixano/temp_data/output_queries/queries_1.csv\n",
      "\n",
      "\n",
      "######################################################## AL ROUND 1 mode query : START #########################################################\n",
      "\n",
      "\n",
      "Namespace(mode='query', data_name='CIFAR11_guns_pixano_v1', n_label='None', n_init_lb=2000, n_query=2000, data_dir='/home/melissap/_pixano_datasets_/CIFAR11_guns_pixano_v1', pixano_al_module='/home/melissap/Desktop/LAGO_43integrationDemo/pixano/ActiveLearning', strategy='CoreSet', round=1, train_out=None, query_out='/home/melissap/Desktop/LAGO_43integrationDemo/pixano/temp_data/output_queries/queries_1.csv', seeds=[1, 10, 100, 1000, 10000], init_lb_method='general_random', log_dir='/home/melissap/Desktop/LAGO_43integrationDemo/pixano/ActiveLearning/certh_integration/alpha_mix_active_learning/_logs', save_checkpoints=False, save_images=False, print_to_file=False, query_growth_ratio=1, n_drop=5, eps=0.05, max_iter=50, alpha_cap=0.03125, alpha_opt=False, alpha_closed_form_approx=True, alpha_learning_rate=0.1, alpha_clf_coef=1.0, alpha_l2_coef=0.01, alpha_learning_iters=5, alpha_learn_batch_size=1000000)\n",
      "args.pixano_al_module  /home/melissap/Desktop/LAGO_43integrationDemo/pixano/ActiveLearning\n",
      "Loading data ...\n",
      "number of labeled pool: 2000\n",
      "number of unlabeled pool: 53000\n",
      "number of validation pool: 0\n",
      "number of testing pool: 10998\n",
      "Data loaded ...\n",
      "Using cuda device.\n"
     ]
    },
    {
     "name": "stderr",
     "output_type": "stream",
     "text": [
      "/home/melissap/miniconda3/envs/customLearner/lib/python3.10/site-packages/torchvision/models/_utils.py:208: UserWarning: The parameter 'pretrained' is deprecated since 0.13 and may be removed in the future, please use 'weights' instead.\n",
      "  warnings.warn(\n",
      "/home/melissap/miniconda3/envs/customLearner/lib/python3.10/site-packages/torchvision/models/_utils.py:223: UserWarning: Arguments other than a weight enum or `None` for 'weights' are deprecated since 0.13 and may be removed in the future. The current behavior is equivalent to passing `weights=None`.\n",
      "  warnings.warn(msg)\n"
     ]
    },
    {
     "name": "stdout",
     "output_type": "stream",
     "text": [
      "Loading weights resnet18_CIFAR11_guns_pixano_v1_CoreSet_0_weights.pth\n",
      "CIFAR11_guns_pixano_v1\n",
      "SEED 1\n",
      "CoreSet\n",
      "Round 1\n",
      "query budget: 2000\n",
      "\n",
      "\n",
      "######################################################### AL ROUND 1 mode query : END ##########################################################\n",
      "\n",
      "\n",
      "Round 1 tagged\n",
      "2000 candidates on round 1\n",
      "AutoAnnotator: round 1 annotated.\n",
      "\n",
      "\n",
      "######################################################## AL ROUND 1 mode train : START #########################################################\n",
      "\n",
      "\n",
      "Namespace(mode='train', data_name='CIFAR11_guns_pixano_v1', n_label='None', n_init_lb=10, n_query=100, data_dir='/home/melissap/_pixano_datasets_/CIFAR11_guns_pixano_v1', pixano_al_module='/home/melissap/Desktop/LAGO_43integrationDemo/pixano/ActiveLearning', strategy='CoreSet', round=1, train_out='/home/melissap/Desktop/LAGO_43integrationDemo/pixano/temp_data/output_accuracy/accuracy.csv', query_out='path to the file', seeds=[1, 10, 100, 1000, 10000], init_lb_method='general_random', log_dir='/home/melissap/Desktop/LAGO_43integrationDemo/pixano/ActiveLearning/certh_integration/alpha_mix_active_learning/_logs', save_checkpoints=False, save_images=False, print_to_file=False, query_growth_ratio=1, n_drop=5, eps=0.05, max_iter=50, alpha_cap=0.03125, alpha_opt=False, alpha_closed_form_approx=True, alpha_learning_rate=0.1, alpha_clf_coef=1.0, alpha_l2_coef=0.01, alpha_learning_iters=5, alpha_learn_batch_size=1000000)\n",
      "args.pixano_al_module  /home/melissap/Desktop/LAGO_43integrationDemo/pixano/ActiveLearning\n",
      "Loading data ...\n",
      "number of labeled pool: 4000\n",
      "number of unlabeled pool: 51000\n",
      "number of validation pool: 0\n",
      "number of testing pool: 10998\n",
      "Data loaded ...\n",
      "Using cuda device.\n"
     ]
    },
    {
     "name": "stderr",
     "output_type": "stream",
     "text": [
      "/home/melissap/miniconda3/envs/customLearner/lib/python3.10/site-packages/torchvision/models/_utils.py:208: UserWarning: The parameter 'pretrained' is deprecated since 0.13 and may be removed in the future, please use 'weights' instead.\n",
      "  warnings.warn(\n",
      "/home/melissap/miniconda3/envs/customLearner/lib/python3.10/site-packages/torchvision/models/_utils.py:223: UserWarning: Arguments other than a weight enum or `None` for 'weights' are deprecated since 0.13 and may be removed in the future. The current behavior is equivalent to passing `weights=None`.\n",
      "  warnings.warn(msg)\n"
     ]
    },
    {
     "name": "stdout",
     "output_type": "stream",
     "text": [
      "CIFAR11_guns_pixano_v1\n",
      "SEED 1\n",
      "CoreSet\n",
      "Adam optimizer...\n",
      "Loading weights resnet18_CIFAR11_guns_pixano_v1_CoreSet_0_weights.pth\n",
      " Print the weights of the model to ensure that weights are loaded \n",
      "Training started...\n"
     ]
    },
    {
     "name": "stderr",
     "output_type": "stream",
     "text": [
      " 37%|███▋      | 37/100 [02:17<03:53,  3.71s/it]"
     ]
    },
    {
     "name": "stdout",
     "output_type": "stream",
     "text": [
      "Reached max accuracy at epoch 37 \n"
     ]
    },
    {
     "name": "stderr",
     "output_type": "stream",
     "text": [
      " 37%|███▋      | 37/100 [02:21<04:00,  3.82s/it]\n"
     ]
    },
    {
     "name": "stdout",
     "output_type": "stream",
     "text": [
      "Round 0\n",
      "testing accuracy 0.5080014548099655\n",
      "\n",
      "\n",
      "######################################################### AL ROUND 1 mode train : END ##########################################################\n",
      "\n",
      "\n",
      "csvQue /home/melissap/Desktop/LAGO_43integrationDemo/pixano/temp_data/output_queries/queries_2.csv\n",
      "\n",
      "\n",
      "######################################################## AL ROUND 2 mode query : START #########################################################\n",
      "\n",
      "\n",
      "Namespace(mode='query', data_name='CIFAR11_guns_pixano_v1', n_label='None', n_init_lb=2000, n_query=2000, data_dir='/home/melissap/_pixano_datasets_/CIFAR11_guns_pixano_v1', pixano_al_module='/home/melissap/Desktop/LAGO_43integrationDemo/pixano/ActiveLearning', strategy='CoreSet', round=2, train_out=None, query_out='/home/melissap/Desktop/LAGO_43integrationDemo/pixano/temp_data/output_queries/queries_2.csv', seeds=[1, 10, 100, 1000, 10000], init_lb_method='general_random', log_dir='/home/melissap/Desktop/LAGO_43integrationDemo/pixano/ActiveLearning/certh_integration/alpha_mix_active_learning/_logs', save_checkpoints=False, save_images=False, print_to_file=False, query_growth_ratio=1, n_drop=5, eps=0.05, max_iter=50, alpha_cap=0.03125, alpha_opt=False, alpha_closed_form_approx=True, alpha_learning_rate=0.1, alpha_clf_coef=1.0, alpha_l2_coef=0.01, alpha_learning_iters=5, alpha_learn_batch_size=1000000)\n",
      "args.pixano_al_module  /home/melissap/Desktop/LAGO_43integrationDemo/pixano/ActiveLearning\n",
      "Loading data ...\n",
      "number of labeled pool: 4000\n",
      "number of unlabeled pool: 51000\n",
      "number of validation pool: 0\n",
      "number of testing pool: 10998\n",
      "Data loaded ...\n",
      "Using cuda device.\n"
     ]
    },
    {
     "name": "stderr",
     "output_type": "stream",
     "text": [
      "/home/melissap/miniconda3/envs/customLearner/lib/python3.10/site-packages/torchvision/models/_utils.py:208: UserWarning: The parameter 'pretrained' is deprecated since 0.13 and may be removed in the future, please use 'weights' instead.\n",
      "  warnings.warn(\n",
      "/home/melissap/miniconda3/envs/customLearner/lib/python3.10/site-packages/torchvision/models/_utils.py:223: UserWarning: Arguments other than a weight enum or `None` for 'weights' are deprecated since 0.13 and may be removed in the future. The current behavior is equivalent to passing `weights=None`.\n",
      "  warnings.warn(msg)\n"
     ]
    },
    {
     "name": "stdout",
     "output_type": "stream",
     "text": [
      "Loading weights resnet18_CIFAR11_guns_pixano_v1_CoreSet_1_weights.pth\n",
      "CIFAR11_guns_pixano_v1\n",
      "SEED 1\n",
      "CoreSet\n",
      "Round 2\n",
      "query budget: 2000\n",
      "\n",
      "\n",
      "######################################################### AL ROUND 2 mode query : END ##########################################################\n",
      "\n",
      "\n",
      "Round 2 tagged\n",
      "2000 candidates on round 2\n",
      "AutoAnnotator: round 2 annotated.\n",
      "\n",
      "\n",
      "######################################################## AL ROUND 2 mode train : START #########################################################\n",
      "\n",
      "\n",
      "Namespace(mode='train', data_name='CIFAR11_guns_pixano_v1', n_label='None', n_init_lb=10, n_query=100, data_dir='/home/melissap/_pixano_datasets_/CIFAR11_guns_pixano_v1', pixano_al_module='/home/melissap/Desktop/LAGO_43integrationDemo/pixano/ActiveLearning', strategy='CoreSet', round=2, train_out='/home/melissap/Desktop/LAGO_43integrationDemo/pixano/temp_data/output_accuracy/accuracy.csv', query_out='path to the file', seeds=[1, 10, 100, 1000, 10000], init_lb_method='general_random', log_dir='/home/melissap/Desktop/LAGO_43integrationDemo/pixano/ActiveLearning/certh_integration/alpha_mix_active_learning/_logs', save_checkpoints=False, save_images=False, print_to_file=False, query_growth_ratio=1, n_drop=5, eps=0.05, max_iter=50, alpha_cap=0.03125, alpha_opt=False, alpha_closed_form_approx=True, alpha_learning_rate=0.1, alpha_clf_coef=1.0, alpha_l2_coef=0.01, alpha_learning_iters=5, alpha_learn_batch_size=1000000)\n",
      "args.pixano_al_module  /home/melissap/Desktop/LAGO_43integrationDemo/pixano/ActiveLearning\n",
      "Loading data ...\n",
      "number of labeled pool: 6000\n",
      "number of unlabeled pool: 49000\n",
      "number of validation pool: 0\n",
      "number of testing pool: 10998\n",
      "Data loaded ...\n",
      "Using cuda device.\n"
     ]
    },
    {
     "name": "stderr",
     "output_type": "stream",
     "text": [
      "/home/melissap/miniconda3/envs/customLearner/lib/python3.10/site-packages/torchvision/models/_utils.py:208: UserWarning: The parameter 'pretrained' is deprecated since 0.13 and may be removed in the future, please use 'weights' instead.\n",
      "  warnings.warn(\n",
      "/home/melissap/miniconda3/envs/customLearner/lib/python3.10/site-packages/torchvision/models/_utils.py:223: UserWarning: Arguments other than a weight enum or `None` for 'weights' are deprecated since 0.13 and may be removed in the future. The current behavior is equivalent to passing `weights=None`.\n",
      "  warnings.warn(msg)\n"
     ]
    },
    {
     "name": "stdout",
     "output_type": "stream",
     "text": [
      "CIFAR11_guns_pixano_v1\n",
      "SEED 1\n",
      "CoreSet\n",
      "Adam optimizer...\n",
      "Loading weights resnet18_CIFAR11_guns_pixano_v1_CoreSet_1_weights.pth\n",
      " Print the weights of the model to ensure that weights are loaded \n",
      "Training started...\n"
     ]
    },
    {
     "name": "stderr",
     "output_type": "stream",
     "text": [
      " 28%|██▊       | 28/100 [02:28<06:22,  5.31s/it]"
     ]
    },
    {
     "name": "stdout",
     "output_type": "stream",
     "text": [
      "Reached max accuracy at epoch 28 \n"
     ]
    },
    {
     "name": "stderr",
     "output_type": "stream",
     "text": [
      " 28%|██▊       | 28/100 [02:34<06:36,  5.51s/it]\n"
     ]
    },
    {
     "name": "stdout",
     "output_type": "stream",
     "text": [
      "Round 0\n",
      "testing accuracy 0.5275504637206765\n",
      "\n",
      "\n",
      "######################################################### AL ROUND 2 mode train : END ##########################################################\n",
      "\n",
      "\n",
      "csvQue /home/melissap/Desktop/LAGO_43integrationDemo/pixano/temp_data/output_queries/queries_3.csv\n",
      "\n",
      "\n",
      "######################################################## AL ROUND 3 mode query : START #########################################################\n",
      "\n",
      "\n",
      "Namespace(mode='query', data_name='CIFAR11_guns_pixano_v1', n_label='None', n_init_lb=2000, n_query=2000, data_dir='/home/melissap/_pixano_datasets_/CIFAR11_guns_pixano_v1', pixano_al_module='/home/melissap/Desktop/LAGO_43integrationDemo/pixano/ActiveLearning', strategy='CoreSet', round=3, train_out=None, query_out='/home/melissap/Desktop/LAGO_43integrationDemo/pixano/temp_data/output_queries/queries_3.csv', seeds=[1, 10, 100, 1000, 10000], init_lb_method='general_random', log_dir='/home/melissap/Desktop/LAGO_43integrationDemo/pixano/ActiveLearning/certh_integration/alpha_mix_active_learning/_logs', save_checkpoints=False, save_images=False, print_to_file=False, query_growth_ratio=1, n_drop=5, eps=0.05, max_iter=50, alpha_cap=0.03125, alpha_opt=False, alpha_closed_form_approx=True, alpha_learning_rate=0.1, alpha_clf_coef=1.0, alpha_l2_coef=0.01, alpha_learning_iters=5, alpha_learn_batch_size=1000000)\n",
      "args.pixano_al_module  /home/melissap/Desktop/LAGO_43integrationDemo/pixano/ActiveLearning\n",
      "Loading data ...\n",
      "number of labeled pool: 6000\n",
      "number of unlabeled pool: 49000\n",
      "number of validation pool: 0\n",
      "number of testing pool: 10998\n",
      "Data loaded ...\n",
      "Using cuda device.\n"
     ]
    },
    {
     "name": "stderr",
     "output_type": "stream",
     "text": [
      "/home/melissap/miniconda3/envs/customLearner/lib/python3.10/site-packages/torchvision/models/_utils.py:208: UserWarning: The parameter 'pretrained' is deprecated since 0.13 and may be removed in the future, please use 'weights' instead.\n",
      "  warnings.warn(\n",
      "/home/melissap/miniconda3/envs/customLearner/lib/python3.10/site-packages/torchvision/models/_utils.py:223: UserWarning: Arguments other than a weight enum or `None` for 'weights' are deprecated since 0.13 and may be removed in the future. The current behavior is equivalent to passing `weights=None`.\n",
      "  warnings.warn(msg)\n"
     ]
    },
    {
     "name": "stdout",
     "output_type": "stream",
     "text": [
      "Loading weights resnet18_CIFAR11_guns_pixano_v1_CoreSet_2_weights.pth\n",
      "CIFAR11_guns_pixano_v1\n",
      "SEED 1\n",
      "CoreSet\n",
      "Round 3\n",
      "query budget: 2000\n",
      "\n",
      "\n",
      "######################################################### AL ROUND 3 mode query : END ##########################################################\n",
      "\n",
      "\n",
      "Round 3 tagged\n",
      "2000 candidates on round 3\n",
      "AutoAnnotator: round 3 annotated.\n",
      "\n",
      "\n",
      "######################################################## AL ROUND 3 mode train : START #########################################################\n",
      "\n",
      "\n",
      "Namespace(mode='train', data_name='CIFAR11_guns_pixano_v1', n_label='None', n_init_lb=10, n_query=100, data_dir='/home/melissap/_pixano_datasets_/CIFAR11_guns_pixano_v1', pixano_al_module='/home/melissap/Desktop/LAGO_43integrationDemo/pixano/ActiveLearning', strategy='CoreSet', round=3, train_out='/home/melissap/Desktop/LAGO_43integrationDemo/pixano/temp_data/output_accuracy/accuracy.csv', query_out='path to the file', seeds=[1, 10, 100, 1000, 10000], init_lb_method='general_random', log_dir='/home/melissap/Desktop/LAGO_43integrationDemo/pixano/ActiveLearning/certh_integration/alpha_mix_active_learning/_logs', save_checkpoints=False, save_images=False, print_to_file=False, query_growth_ratio=1, n_drop=5, eps=0.05, max_iter=50, alpha_cap=0.03125, alpha_opt=False, alpha_closed_form_approx=True, alpha_learning_rate=0.1, alpha_clf_coef=1.0, alpha_l2_coef=0.01, alpha_learning_iters=5, alpha_learn_batch_size=1000000)\n",
      "args.pixano_al_module  /home/melissap/Desktop/LAGO_43integrationDemo/pixano/ActiveLearning\n",
      "Loading data ...\n",
      "number of labeled pool: 8000\n",
      "number of unlabeled pool: 47000\n",
      "number of validation pool: 0\n",
      "number of testing pool: 10998\n",
      "Data loaded ...\n",
      "Using cuda device.\n"
     ]
    },
    {
     "name": "stderr",
     "output_type": "stream",
     "text": [
      "/home/melissap/miniconda3/envs/customLearner/lib/python3.10/site-packages/torchvision/models/_utils.py:208: UserWarning: The parameter 'pretrained' is deprecated since 0.13 and may be removed in the future, please use 'weights' instead.\n",
      "  warnings.warn(\n",
      "/home/melissap/miniconda3/envs/customLearner/lib/python3.10/site-packages/torchvision/models/_utils.py:223: UserWarning: Arguments other than a weight enum or `None` for 'weights' are deprecated since 0.13 and may be removed in the future. The current behavior is equivalent to passing `weights=None`.\n",
      "  warnings.warn(msg)\n"
     ]
    },
    {
     "name": "stdout",
     "output_type": "stream",
     "text": [
      "CIFAR11_guns_pixano_v1\n",
      "SEED 1\n",
      "CoreSet\n",
      "Adam optimizer...\n",
      "Loading weights resnet18_CIFAR11_guns_pixano_v1_CoreSet_2_weights.pth\n",
      " Print the weights of the model to ensure that weights are loaded \n",
      "Training started...\n"
     ]
    },
    {
     "name": "stderr",
     "output_type": "stream",
     "text": [
      " 15%|█▌        | 15/100 [01:44<09:49,  6.94s/it]"
     ]
    },
    {
     "name": "stdout",
     "output_type": "stream",
     "text": [
      "Reached max accuracy at epoch 15 \n"
     ]
    },
    {
     "name": "stderr",
     "output_type": "stream",
     "text": [
      " 15%|█▌        | 15/100 [01:51<10:30,  7.42s/it]\n"
     ]
    },
    {
     "name": "stdout",
     "output_type": "stream",
     "text": [
      "Round 0\n",
      "testing accuracy 0.5616475722858701\n",
      "\n",
      "\n",
      "######################################################### AL ROUND 3 mode train : END ##########################################################\n",
      "\n",
      "\n",
      "csvQue /home/melissap/Desktop/LAGO_43integrationDemo/pixano/temp_data/output_queries/queries_4.csv\n",
      "\n",
      "\n",
      "######################################################## AL ROUND 4 mode query : START #########################################################\n",
      "\n",
      "\n",
      "Namespace(mode='query', data_name='CIFAR11_guns_pixano_v1', n_label='None', n_init_lb=2000, n_query=2000, data_dir='/home/melissap/_pixano_datasets_/CIFAR11_guns_pixano_v1', pixano_al_module='/home/melissap/Desktop/LAGO_43integrationDemo/pixano/ActiveLearning', strategy='CoreSet', round=4, train_out=None, query_out='/home/melissap/Desktop/LAGO_43integrationDemo/pixano/temp_data/output_queries/queries_4.csv', seeds=[1, 10, 100, 1000, 10000], init_lb_method='general_random', log_dir='/home/melissap/Desktop/LAGO_43integrationDemo/pixano/ActiveLearning/certh_integration/alpha_mix_active_learning/_logs', save_checkpoints=False, save_images=False, print_to_file=False, query_growth_ratio=1, n_drop=5, eps=0.05, max_iter=50, alpha_cap=0.03125, alpha_opt=False, alpha_closed_form_approx=True, alpha_learning_rate=0.1, alpha_clf_coef=1.0, alpha_l2_coef=0.01, alpha_learning_iters=5, alpha_learn_batch_size=1000000)\n",
      "args.pixano_al_module  /home/melissap/Desktop/LAGO_43integrationDemo/pixano/ActiveLearning\n",
      "Loading data ...\n",
      "number of labeled pool: 8000\n",
      "number of unlabeled pool: 47000\n",
      "number of validation pool: 0\n",
      "number of testing pool: 10998\n",
      "Data loaded ...\n",
      "Using cuda device.\n"
     ]
    },
    {
     "name": "stderr",
     "output_type": "stream",
     "text": [
      "/home/melissap/miniconda3/envs/customLearner/lib/python3.10/site-packages/torchvision/models/_utils.py:208: UserWarning: The parameter 'pretrained' is deprecated since 0.13 and may be removed in the future, please use 'weights' instead.\n",
      "  warnings.warn(\n",
      "/home/melissap/miniconda3/envs/customLearner/lib/python3.10/site-packages/torchvision/models/_utils.py:223: UserWarning: Arguments other than a weight enum or `None` for 'weights' are deprecated since 0.13 and may be removed in the future. The current behavior is equivalent to passing `weights=None`.\n",
      "  warnings.warn(msg)\n"
     ]
    },
    {
     "name": "stdout",
     "output_type": "stream",
     "text": [
      "Loading weights resnet18_CIFAR11_guns_pixano_v1_CoreSet_3_weights.pth\n",
      "CIFAR11_guns_pixano_v1\n",
      "SEED 1\n",
      "CoreSet\n",
      "Round 4\n",
      "query budget: 2000\n",
      "\n",
      "\n",
      "######################################################### AL ROUND 4 mode query : END ##########################################################\n",
      "\n",
      "\n",
      "Round 4 tagged\n",
      "2000 candidates on round 4\n",
      "AutoAnnotator: round 4 annotated.\n",
      "\n",
      "\n",
      "######################################################## AL ROUND 4 mode train : START #########################################################\n",
      "\n",
      "\n",
      "Namespace(mode='train', data_name='CIFAR11_guns_pixano_v1', n_label='None', n_init_lb=10, n_query=100, data_dir='/home/melissap/_pixano_datasets_/CIFAR11_guns_pixano_v1', pixano_al_module='/home/melissap/Desktop/LAGO_43integrationDemo/pixano/ActiveLearning', strategy='CoreSet', round=4, train_out='/home/melissap/Desktop/LAGO_43integrationDemo/pixano/temp_data/output_accuracy/accuracy.csv', query_out='path to the file', seeds=[1, 10, 100, 1000, 10000], init_lb_method='general_random', log_dir='/home/melissap/Desktop/LAGO_43integrationDemo/pixano/ActiveLearning/certh_integration/alpha_mix_active_learning/_logs', save_checkpoints=False, save_images=False, print_to_file=False, query_growth_ratio=1, n_drop=5, eps=0.05, max_iter=50, alpha_cap=0.03125, alpha_opt=False, alpha_closed_form_approx=True, alpha_learning_rate=0.1, alpha_clf_coef=1.0, alpha_l2_coef=0.01, alpha_learning_iters=5, alpha_learn_batch_size=1000000)\n",
      "args.pixano_al_module  /home/melissap/Desktop/LAGO_43integrationDemo/pixano/ActiveLearning\n",
      "Loading data ...\n",
      "number of labeled pool: 10000\n",
      "number of unlabeled pool: 45000\n",
      "number of validation pool: 0\n",
      "number of testing pool: 10998\n",
      "Data loaded ...\n",
      "Using cuda device.\n"
     ]
    },
    {
     "name": "stderr",
     "output_type": "stream",
     "text": [
      "/home/melissap/miniconda3/envs/customLearner/lib/python3.10/site-packages/torchvision/models/_utils.py:208: UserWarning: The parameter 'pretrained' is deprecated since 0.13 and may be removed in the future, please use 'weights' instead.\n",
      "  warnings.warn(\n",
      "/home/melissap/miniconda3/envs/customLearner/lib/python3.10/site-packages/torchvision/models/_utils.py:223: UserWarning: Arguments other than a weight enum or `None` for 'weights' are deprecated since 0.13 and may be removed in the future. The current behavior is equivalent to passing `weights=None`.\n",
      "  warnings.warn(msg)\n"
     ]
    },
    {
     "name": "stdout",
     "output_type": "stream",
     "text": [
      "CIFAR11_guns_pixano_v1\n",
      "SEED 1\n",
      "CoreSet\n",
      "Adam optimizer...\n",
      "Loading weights resnet18_CIFAR11_guns_pixano_v1_CoreSet_3_weights.pth\n",
      " Print the weights of the model to ensure that weights are loaded \n",
      "Training started...\n"
     ]
    },
    {
     "name": "stderr",
     "output_type": "stream",
     "text": [
      " 13%|█▎        | 13/100 [01:51<12:24,  8.56s/it]"
     ]
    },
    {
     "name": "stdout",
     "output_type": "stream",
     "text": [
      "Reached max accuracy at epoch 13 \n"
     ]
    },
    {
     "name": "stderr",
     "output_type": "stream",
     "text": [
      " 13%|█▎        | 13/100 [02:00<13:25,  9.26s/it]\n"
     ]
    },
    {
     "name": "stdout",
     "output_type": "stream",
     "text": [
      "Round 0\n",
      "testing accuracy 0.571649390798327\n",
      "\n",
      "\n",
      "######################################################### AL ROUND 4 mode train : END ##########################################################\n",
      "\n",
      "\n",
      "csvQue /home/melissap/Desktop/LAGO_43integrationDemo/pixano/temp_data/output_queries/queries_5.csv\n",
      "\n",
      "\n",
      "######################################################## AL ROUND 5 mode query : START #########################################################\n",
      "\n",
      "\n",
      "Namespace(mode='query', data_name='CIFAR11_guns_pixano_v1', n_label='None', n_init_lb=2000, n_query=2000, data_dir='/home/melissap/_pixano_datasets_/CIFAR11_guns_pixano_v1', pixano_al_module='/home/melissap/Desktop/LAGO_43integrationDemo/pixano/ActiveLearning', strategy='CoreSet', round=5, train_out=None, query_out='/home/melissap/Desktop/LAGO_43integrationDemo/pixano/temp_data/output_queries/queries_5.csv', seeds=[1, 10, 100, 1000, 10000], init_lb_method='general_random', log_dir='/home/melissap/Desktop/LAGO_43integrationDemo/pixano/ActiveLearning/certh_integration/alpha_mix_active_learning/_logs', save_checkpoints=False, save_images=False, print_to_file=False, query_growth_ratio=1, n_drop=5, eps=0.05, max_iter=50, alpha_cap=0.03125, alpha_opt=False, alpha_closed_form_approx=True, alpha_learning_rate=0.1, alpha_clf_coef=1.0, alpha_l2_coef=0.01, alpha_learning_iters=5, alpha_learn_batch_size=1000000)\n",
      "args.pixano_al_module  /home/melissap/Desktop/LAGO_43integrationDemo/pixano/ActiveLearning\n",
      "Loading data ...\n",
      "number of labeled pool: 10000\n",
      "number of unlabeled pool: 45000\n",
      "number of validation pool: 0\n",
      "number of testing pool: 10998\n",
      "Data loaded ...\n",
      "Using cuda device.\n"
     ]
    },
    {
     "name": "stderr",
     "output_type": "stream",
     "text": [
      "/home/melissap/miniconda3/envs/customLearner/lib/python3.10/site-packages/torchvision/models/_utils.py:208: UserWarning: The parameter 'pretrained' is deprecated since 0.13 and may be removed in the future, please use 'weights' instead.\n",
      "  warnings.warn(\n",
      "/home/melissap/miniconda3/envs/customLearner/lib/python3.10/site-packages/torchvision/models/_utils.py:223: UserWarning: Arguments other than a weight enum or `None` for 'weights' are deprecated since 0.13 and may be removed in the future. The current behavior is equivalent to passing `weights=None`.\n",
      "  warnings.warn(msg)\n"
     ]
    },
    {
     "name": "stdout",
     "output_type": "stream",
     "text": [
      "Loading weights resnet18_CIFAR11_guns_pixano_v1_CoreSet_4_weights.pth\n",
      "CIFAR11_guns_pixano_v1\n",
      "SEED 1\n",
      "CoreSet\n",
      "Round 5\n",
      "query budget: 2000\n",
      "\n",
      "\n",
      "######################################################### AL ROUND 5 mode query : END ##########################################################\n",
      "\n",
      "\n",
      "Round 5 tagged\n",
      "2000 candidates on round 5\n",
      "AutoAnnotator: round 5 annotated.\n",
      "\n",
      "\n",
      "######################################################## AL ROUND 5 mode train : START #########################################################\n",
      "\n",
      "\n",
      "Namespace(mode='train', data_name='CIFAR11_guns_pixano_v1', n_label='None', n_init_lb=10, n_query=100, data_dir='/home/melissap/_pixano_datasets_/CIFAR11_guns_pixano_v1', pixano_al_module='/home/melissap/Desktop/LAGO_43integrationDemo/pixano/ActiveLearning', strategy='CoreSet', round=5, train_out='/home/melissap/Desktop/LAGO_43integrationDemo/pixano/temp_data/output_accuracy/accuracy.csv', query_out='path to the file', seeds=[1, 10, 100, 1000, 10000], init_lb_method='general_random', log_dir='/home/melissap/Desktop/LAGO_43integrationDemo/pixano/ActiveLearning/certh_integration/alpha_mix_active_learning/_logs', save_checkpoints=False, save_images=False, print_to_file=False, query_growth_ratio=1, n_drop=5, eps=0.05, max_iter=50, alpha_cap=0.03125, alpha_opt=False, alpha_closed_form_approx=True, alpha_learning_rate=0.1, alpha_clf_coef=1.0, alpha_l2_coef=0.01, alpha_learning_iters=5, alpha_learn_batch_size=1000000)\n",
      "args.pixano_al_module  /home/melissap/Desktop/LAGO_43integrationDemo/pixano/ActiveLearning\n",
      "Loading data ...\n",
      "number of labeled pool: 12000\n",
      "number of unlabeled pool: 43000\n",
      "number of validation pool: 0\n",
      "number of testing pool: 10998\n",
      "Data loaded ...\n",
      "Using cuda device.\n"
     ]
    },
    {
     "name": "stderr",
     "output_type": "stream",
     "text": [
      "/home/melissap/miniconda3/envs/customLearner/lib/python3.10/site-packages/torchvision/models/_utils.py:208: UserWarning: The parameter 'pretrained' is deprecated since 0.13 and may be removed in the future, please use 'weights' instead.\n",
      "  warnings.warn(\n",
      "/home/melissap/miniconda3/envs/customLearner/lib/python3.10/site-packages/torchvision/models/_utils.py:223: UserWarning: Arguments other than a weight enum or `None` for 'weights' are deprecated since 0.13 and may be removed in the future. The current behavior is equivalent to passing `weights=None`.\n",
      "  warnings.warn(msg)\n"
     ]
    },
    {
     "name": "stdout",
     "output_type": "stream",
     "text": [
      "CIFAR11_guns_pixano_v1\n",
      "SEED 1\n",
      "CoreSet\n",
      "Adam optimizer...\n",
      "Loading weights resnet18_CIFAR11_guns_pixano_v1_CoreSet_4_weights.pth\n",
      " Print the weights of the model to ensure that weights are loaded \n",
      "Training started...\n"
     ]
    },
    {
     "name": "stderr",
     "output_type": "stream",
     "text": [
      " 21%|██        | 21/100 [03:34<13:24, 10.19s/it]"
     ]
    },
    {
     "name": "stdout",
     "output_type": "stream",
     "text": [
      "Reached max accuracy at epoch 21 \n"
     ]
    },
    {
     "name": "stderr",
     "output_type": "stream",
     "text": [
      " 21%|██        | 21/100 [03:44<14:03, 10.68s/it]\n"
     ]
    },
    {
     "name": "stdout",
     "output_type": "stream",
     "text": [
      "Round 0\n",
      "testing accuracy 0.5931987634115293\n",
      "\n",
      "\n",
      "######################################################### AL ROUND 5 mode train : END ##########################################################\n",
      "\n",
      "\n",
      "csvQue /home/melissap/Desktop/LAGO_43integrationDemo/pixano/temp_data/output_queries/queries_6.csv\n",
      "\n",
      "\n",
      "######################################################## AL ROUND 6 mode query : START #########################################################\n",
      "\n",
      "\n",
      "Namespace(mode='query', data_name='CIFAR11_guns_pixano_v1', n_label='None', n_init_lb=2000, n_query=2000, data_dir='/home/melissap/_pixano_datasets_/CIFAR11_guns_pixano_v1', pixano_al_module='/home/melissap/Desktop/LAGO_43integrationDemo/pixano/ActiveLearning', strategy='CoreSet', round=6, train_out=None, query_out='/home/melissap/Desktop/LAGO_43integrationDemo/pixano/temp_data/output_queries/queries_6.csv', seeds=[1, 10, 100, 1000, 10000], init_lb_method='general_random', log_dir='/home/melissap/Desktop/LAGO_43integrationDemo/pixano/ActiveLearning/certh_integration/alpha_mix_active_learning/_logs', save_checkpoints=False, save_images=False, print_to_file=False, query_growth_ratio=1, n_drop=5, eps=0.05, max_iter=50, alpha_cap=0.03125, alpha_opt=False, alpha_closed_form_approx=True, alpha_learning_rate=0.1, alpha_clf_coef=1.0, alpha_l2_coef=0.01, alpha_learning_iters=5, alpha_learn_batch_size=1000000)\n",
      "args.pixano_al_module  /home/melissap/Desktop/LAGO_43integrationDemo/pixano/ActiveLearning\n",
      "Loading data ...\n",
      "number of labeled pool: 12000\n",
      "number of unlabeled pool: 43000\n",
      "number of validation pool: 0\n",
      "number of testing pool: 10998\n",
      "Data loaded ...\n",
      "Using cuda device.\n"
     ]
    },
    {
     "name": "stderr",
     "output_type": "stream",
     "text": [
      "/home/melissap/miniconda3/envs/customLearner/lib/python3.10/site-packages/torchvision/models/_utils.py:208: UserWarning: The parameter 'pretrained' is deprecated since 0.13 and may be removed in the future, please use 'weights' instead.\n",
      "  warnings.warn(\n",
      "/home/melissap/miniconda3/envs/customLearner/lib/python3.10/site-packages/torchvision/models/_utils.py:223: UserWarning: Arguments other than a weight enum or `None` for 'weights' are deprecated since 0.13 and may be removed in the future. The current behavior is equivalent to passing `weights=None`.\n",
      "  warnings.warn(msg)\n"
     ]
    },
    {
     "name": "stdout",
     "output_type": "stream",
     "text": [
      "Loading weights resnet18_CIFAR11_guns_pixano_v1_CoreSet_5_weights.pth\n",
      "CIFAR11_guns_pixano_v1\n",
      "SEED 1\n",
      "CoreSet\n",
      "Round 6\n",
      "query budget: 2000\n",
      "\n",
      "\n",
      "######################################################### AL ROUND 6 mode query : END ##########################################################\n",
      "\n",
      "\n",
      "Round 6 tagged\n",
      "2000 candidates on round 6\n",
      "AutoAnnotator: round 6 annotated.\n",
      "\n",
      "\n",
      "######################################################## AL ROUND 6 mode train : START #########################################################\n",
      "\n",
      "\n",
      "Namespace(mode='train', data_name='CIFAR11_guns_pixano_v1', n_label='None', n_init_lb=10, n_query=100, data_dir='/home/melissap/_pixano_datasets_/CIFAR11_guns_pixano_v1', pixano_al_module='/home/melissap/Desktop/LAGO_43integrationDemo/pixano/ActiveLearning', strategy='CoreSet', round=6, train_out='/home/melissap/Desktop/LAGO_43integrationDemo/pixano/temp_data/output_accuracy/accuracy.csv', query_out='path to the file', seeds=[1, 10, 100, 1000, 10000], init_lb_method='general_random', log_dir='/home/melissap/Desktop/LAGO_43integrationDemo/pixano/ActiveLearning/certh_integration/alpha_mix_active_learning/_logs', save_checkpoints=False, save_images=False, print_to_file=False, query_growth_ratio=1, n_drop=5, eps=0.05, max_iter=50, alpha_cap=0.03125, alpha_opt=False, alpha_closed_form_approx=True, alpha_learning_rate=0.1, alpha_clf_coef=1.0, alpha_l2_coef=0.01, alpha_learning_iters=5, alpha_learn_batch_size=1000000)\n",
      "args.pixano_al_module  /home/melissap/Desktop/LAGO_43integrationDemo/pixano/ActiveLearning\n",
      "Loading data ...\n",
      "number of labeled pool: 14000\n",
      "number of unlabeled pool: 41000\n",
      "number of validation pool: 0\n",
      "number of testing pool: 10998\n",
      "Data loaded ...\n",
      "Using cuda device.\n"
     ]
    },
    {
     "name": "stderr",
     "output_type": "stream",
     "text": [
      "/home/melissap/miniconda3/envs/customLearner/lib/python3.10/site-packages/torchvision/models/_utils.py:208: UserWarning: The parameter 'pretrained' is deprecated since 0.13 and may be removed in the future, please use 'weights' instead.\n",
      "  warnings.warn(\n",
      "/home/melissap/miniconda3/envs/customLearner/lib/python3.10/site-packages/torchvision/models/_utils.py:223: UserWarning: Arguments other than a weight enum or `None` for 'weights' are deprecated since 0.13 and may be removed in the future. The current behavior is equivalent to passing `weights=None`.\n",
      "  warnings.warn(msg)\n"
     ]
    },
    {
     "name": "stdout",
     "output_type": "stream",
     "text": [
      "CIFAR11_guns_pixano_v1\n",
      "SEED 1\n",
      "CoreSet\n",
      "Adam optimizer...\n",
      "Loading weights resnet18_CIFAR11_guns_pixano_v1_CoreSet_5_weights.pth\n",
      " Print the weights of the model to ensure that weights are loaded \n",
      "Training started...\n"
     ]
    },
    {
     "name": "stderr",
     "output_type": "stream",
     "text": [
      " 11%|█         | 11/100 [02:09<17:28, 11.78s/it]"
     ]
    },
    {
     "name": "stdout",
     "output_type": "stream",
     "text": [
      "Reached max accuracy at epoch 11 \n"
     ]
    },
    {
     "name": "stderr",
     "output_type": "stream",
     "text": [
      " 11%|█         | 11/100 [02:21<19:07, 12.89s/it]\n"
     ]
    },
    {
     "name": "stdout",
     "output_type": "stream",
     "text": [
      "Round 0\n",
      "testing accuracy 0.6143844335333697\n",
      "\n",
      "\n",
      "######################################################### AL ROUND 6 mode train : END ##########################################################\n",
      "\n",
      "\n",
      "csvQue /home/melissap/Desktop/LAGO_43integrationDemo/pixano/temp_data/output_queries/queries_7.csv\n",
      "\n",
      "\n",
      "######################################################## AL ROUND 7 mode query : START #########################################################\n",
      "\n",
      "\n",
      "Namespace(mode='query', data_name='CIFAR11_guns_pixano_v1', n_label='None', n_init_lb=2000, n_query=2000, data_dir='/home/melissap/_pixano_datasets_/CIFAR11_guns_pixano_v1', pixano_al_module='/home/melissap/Desktop/LAGO_43integrationDemo/pixano/ActiveLearning', strategy='CoreSet', round=7, train_out=None, query_out='/home/melissap/Desktop/LAGO_43integrationDemo/pixano/temp_data/output_queries/queries_7.csv', seeds=[1, 10, 100, 1000, 10000], init_lb_method='general_random', log_dir='/home/melissap/Desktop/LAGO_43integrationDemo/pixano/ActiveLearning/certh_integration/alpha_mix_active_learning/_logs', save_checkpoints=False, save_images=False, print_to_file=False, query_growth_ratio=1, n_drop=5, eps=0.05, max_iter=50, alpha_cap=0.03125, alpha_opt=False, alpha_closed_form_approx=True, alpha_learning_rate=0.1, alpha_clf_coef=1.0, alpha_l2_coef=0.01, alpha_learning_iters=5, alpha_learn_batch_size=1000000)\n",
      "args.pixano_al_module  /home/melissap/Desktop/LAGO_43integrationDemo/pixano/ActiveLearning\n",
      "Loading data ...\n",
      "number of labeled pool: 14000\n",
      "number of unlabeled pool: 41000\n",
      "number of validation pool: 0\n",
      "number of testing pool: 10998\n",
      "Data loaded ...\n",
      "Using cuda device.\n"
     ]
    },
    {
     "name": "stderr",
     "output_type": "stream",
     "text": [
      "/home/melissap/miniconda3/envs/customLearner/lib/python3.10/site-packages/torchvision/models/_utils.py:208: UserWarning: The parameter 'pretrained' is deprecated since 0.13 and may be removed in the future, please use 'weights' instead.\n",
      "  warnings.warn(\n",
      "/home/melissap/miniconda3/envs/customLearner/lib/python3.10/site-packages/torchvision/models/_utils.py:223: UserWarning: Arguments other than a weight enum or `None` for 'weights' are deprecated since 0.13 and may be removed in the future. The current behavior is equivalent to passing `weights=None`.\n",
      "  warnings.warn(msg)\n"
     ]
    },
    {
     "name": "stdout",
     "output_type": "stream",
     "text": [
      "Loading weights resnet18_CIFAR11_guns_pixano_v1_CoreSet_6_weights.pth\n",
      "CIFAR11_guns_pixano_v1\n",
      "SEED 1\n",
      "CoreSet\n",
      "Round 7\n",
      "query budget: 2000\n",
      "\n",
      "\n",
      "######################################################### AL ROUND 7 mode query : END ##########################################################\n",
      "\n",
      "\n",
      "Round 7 tagged\n",
      "2000 candidates on round 7\n",
      "AutoAnnotator: round 7 annotated.\n",
      "\n",
      "\n",
      "######################################################## AL ROUND 7 mode train : START #########################################################\n",
      "\n",
      "\n",
      "Namespace(mode='train', data_name='CIFAR11_guns_pixano_v1', n_label='None', n_init_lb=10, n_query=100, data_dir='/home/melissap/_pixano_datasets_/CIFAR11_guns_pixano_v1', pixano_al_module='/home/melissap/Desktop/LAGO_43integrationDemo/pixano/ActiveLearning', strategy='CoreSet', round=7, train_out='/home/melissap/Desktop/LAGO_43integrationDemo/pixano/temp_data/output_accuracy/accuracy.csv', query_out='path to the file', seeds=[1, 10, 100, 1000, 10000], init_lb_method='general_random', log_dir='/home/melissap/Desktop/LAGO_43integrationDemo/pixano/ActiveLearning/certh_integration/alpha_mix_active_learning/_logs', save_checkpoints=False, save_images=False, print_to_file=False, query_growth_ratio=1, n_drop=5, eps=0.05, max_iter=50, alpha_cap=0.03125, alpha_opt=False, alpha_closed_form_approx=True, alpha_learning_rate=0.1, alpha_clf_coef=1.0, alpha_l2_coef=0.01, alpha_learning_iters=5, alpha_learn_batch_size=1000000)\n",
      "args.pixano_al_module  /home/melissap/Desktop/LAGO_43integrationDemo/pixano/ActiveLearning\n",
      "Loading data ...\n",
      "number of labeled pool: 16000\n",
      "number of unlabeled pool: 39000\n",
      "number of validation pool: 0\n",
      "number of testing pool: 10998\n",
      "Data loaded ...\n",
      "Using cuda device.\n"
     ]
    },
    {
     "name": "stderr",
     "output_type": "stream",
     "text": [
      "/home/melissap/miniconda3/envs/customLearner/lib/python3.10/site-packages/torchvision/models/_utils.py:208: UserWarning: The parameter 'pretrained' is deprecated since 0.13 and may be removed in the future, please use 'weights' instead.\n",
      "  warnings.warn(\n",
      "/home/melissap/miniconda3/envs/customLearner/lib/python3.10/site-packages/torchvision/models/_utils.py:223: UserWarning: Arguments other than a weight enum or `None` for 'weights' are deprecated since 0.13 and may be removed in the future. The current behavior is equivalent to passing `weights=None`.\n",
      "  warnings.warn(msg)\n"
     ]
    },
    {
     "name": "stdout",
     "output_type": "stream",
     "text": [
      "CIFAR11_guns_pixano_v1\n",
      "SEED 1\n",
      "CoreSet\n",
      "Adam optimizer...\n",
      "Loading weights resnet18_CIFAR11_guns_pixano_v1_CoreSet_6_weights.pth\n",
      " Print the weights of the model to ensure that weights are loaded \n",
      "Training started...\n"
     ]
    },
    {
     "name": "stderr",
     "output_type": "stream",
     "text": [
      " 16%|█▌        | 16/100 [03:34<18:45, 13.40s/it]"
     ]
    },
    {
     "name": "stdout",
     "output_type": "stream",
     "text": [
      "Reached max accuracy at epoch 16 \n"
     ]
    },
    {
     "name": "stderr",
     "output_type": "stream",
     "text": [
      " 16%|█▌        | 16/100 [03:47<19:56, 14.25s/it]\n"
     ]
    },
    {
     "name": "stdout",
     "output_type": "stream",
     "text": [
      "Round 0\n",
      "testing accuracy 0.6303873431533006\n",
      "\n",
      "\n",
      "######################################################### AL ROUND 7 mode train : END ##########################################################\n",
      "\n",
      "\n",
      "csvQue /home/melissap/Desktop/LAGO_43integrationDemo/pixano/temp_data/output_queries/queries_8.csv\n",
      "\n",
      "\n",
      "######################################################## AL ROUND 8 mode query : START #########################################################\n",
      "\n",
      "\n",
      "Namespace(mode='query', data_name='CIFAR11_guns_pixano_v1', n_label='None', n_init_lb=2000, n_query=2000, data_dir='/home/melissap/_pixano_datasets_/CIFAR11_guns_pixano_v1', pixano_al_module='/home/melissap/Desktop/LAGO_43integrationDemo/pixano/ActiveLearning', strategy='CoreSet', round=8, train_out=None, query_out='/home/melissap/Desktop/LAGO_43integrationDemo/pixano/temp_data/output_queries/queries_8.csv', seeds=[1, 10, 100, 1000, 10000], init_lb_method='general_random', log_dir='/home/melissap/Desktop/LAGO_43integrationDemo/pixano/ActiveLearning/certh_integration/alpha_mix_active_learning/_logs', save_checkpoints=False, save_images=False, print_to_file=False, query_growth_ratio=1, n_drop=5, eps=0.05, max_iter=50, alpha_cap=0.03125, alpha_opt=False, alpha_closed_form_approx=True, alpha_learning_rate=0.1, alpha_clf_coef=1.0, alpha_l2_coef=0.01, alpha_learning_iters=5, alpha_learn_batch_size=1000000)\n",
      "args.pixano_al_module  /home/melissap/Desktop/LAGO_43integrationDemo/pixano/ActiveLearning\n",
      "Loading data ...\n",
      "number of labeled pool: 16000\n",
      "number of unlabeled pool: 39000\n",
      "number of validation pool: 0\n",
      "number of testing pool: 10998\n",
      "Data loaded ...\n",
      "Using cuda device.\n"
     ]
    },
    {
     "name": "stderr",
     "output_type": "stream",
     "text": [
      "/home/melissap/miniconda3/envs/customLearner/lib/python3.10/site-packages/torchvision/models/_utils.py:208: UserWarning: The parameter 'pretrained' is deprecated since 0.13 and may be removed in the future, please use 'weights' instead.\n",
      "  warnings.warn(\n",
      "/home/melissap/miniconda3/envs/customLearner/lib/python3.10/site-packages/torchvision/models/_utils.py:223: UserWarning: Arguments other than a weight enum or `None` for 'weights' are deprecated since 0.13 and may be removed in the future. The current behavior is equivalent to passing `weights=None`.\n",
      "  warnings.warn(msg)\n"
     ]
    },
    {
     "name": "stdout",
     "output_type": "stream",
     "text": [
      "Loading weights resnet18_CIFAR11_guns_pixano_v1_CoreSet_7_weights.pth\n",
      "CIFAR11_guns_pixano_v1\n",
      "SEED 1\n",
      "CoreSet\n",
      "Round 8\n",
      "query budget: 2000\n",
      "\n",
      "\n",
      "######################################################### AL ROUND 8 mode query : END ##########################################################\n",
      "\n",
      "\n",
      "Round 8 tagged\n",
      "2000 candidates on round 8\n",
      "AutoAnnotator: round 8 annotated.\n",
      "\n",
      "\n",
      "######################################################## AL ROUND 8 mode train : START #########################################################\n",
      "\n",
      "\n",
      "Namespace(mode='train', data_name='CIFAR11_guns_pixano_v1', n_label='None', n_init_lb=10, n_query=100, data_dir='/home/melissap/_pixano_datasets_/CIFAR11_guns_pixano_v1', pixano_al_module='/home/melissap/Desktop/LAGO_43integrationDemo/pixano/ActiveLearning', strategy='CoreSet', round=8, train_out='/home/melissap/Desktop/LAGO_43integrationDemo/pixano/temp_data/output_accuracy/accuracy.csv', query_out='path to the file', seeds=[1, 10, 100, 1000, 10000], init_lb_method='general_random', log_dir='/home/melissap/Desktop/LAGO_43integrationDemo/pixano/ActiveLearning/certh_integration/alpha_mix_active_learning/_logs', save_checkpoints=False, save_images=False, print_to_file=False, query_growth_ratio=1, n_drop=5, eps=0.05, max_iter=50, alpha_cap=0.03125, alpha_opt=False, alpha_closed_form_approx=True, alpha_learning_rate=0.1, alpha_clf_coef=1.0, alpha_l2_coef=0.01, alpha_learning_iters=5, alpha_learn_batch_size=1000000)\n",
      "args.pixano_al_module  /home/melissap/Desktop/LAGO_43integrationDemo/pixano/ActiveLearning\n",
      "Loading data ...\n",
      "number of labeled pool: 18000\n",
      "number of unlabeled pool: 37000\n",
      "number of validation pool: 0\n",
      "number of testing pool: 10998\n",
      "Data loaded ...\n",
      "Using cuda device.\n"
     ]
    },
    {
     "name": "stderr",
     "output_type": "stream",
     "text": [
      "/home/melissap/miniconda3/envs/customLearner/lib/python3.10/site-packages/torchvision/models/_utils.py:208: UserWarning: The parameter 'pretrained' is deprecated since 0.13 and may be removed in the future, please use 'weights' instead.\n",
      "  warnings.warn(\n",
      "/home/melissap/miniconda3/envs/customLearner/lib/python3.10/site-packages/torchvision/models/_utils.py:223: UserWarning: Arguments other than a weight enum or `None` for 'weights' are deprecated since 0.13 and may be removed in the future. The current behavior is equivalent to passing `weights=None`.\n",
      "  warnings.warn(msg)\n"
     ]
    },
    {
     "name": "stdout",
     "output_type": "stream",
     "text": [
      "CIFAR11_guns_pixano_v1\n",
      "SEED 1\n",
      "CoreSet\n",
      "Adam optimizer...\n",
      "Loading weights resnet18_CIFAR11_guns_pixano_v1_CoreSet_7_weights.pth\n",
      " Print the weights of the model to ensure that weights are loaded \n",
      "Training started...\n"
     ]
    },
    {
     "name": "stderr",
     "output_type": "stream",
     "text": [
      "  8%|▊         | 8/100 [02:00<23:04, 15.05s/it]"
     ]
    },
    {
     "name": "stdout",
     "output_type": "stream",
     "text": [
      "Reached max accuracy at epoch 8 \n"
     ]
    },
    {
     "name": "stderr",
     "output_type": "stream",
     "text": [
      "  8%|▊         | 8/100 [02:15<26:02, 16.99s/it]\n"
     ]
    },
    {
     "name": "stdout",
     "output_type": "stream",
     "text": [
      "Round 0\n",
      "testing accuracy 0.6308419712675032\n",
      "\n",
      "\n",
      "######################################################### AL ROUND 8 mode train : END ##########################################################\n",
      "\n",
      "\n",
      "csvQue /home/melissap/Desktop/LAGO_43integrationDemo/pixano/temp_data/output_queries/queries_9.csv\n",
      "\n",
      "\n",
      "######################################################## AL ROUND 9 mode query : START #########################################################\n",
      "\n",
      "\n",
      "Namespace(mode='query', data_name='CIFAR11_guns_pixano_v1', n_label='None', n_init_lb=2000, n_query=2000, data_dir='/home/melissap/_pixano_datasets_/CIFAR11_guns_pixano_v1', pixano_al_module='/home/melissap/Desktop/LAGO_43integrationDemo/pixano/ActiveLearning', strategy='CoreSet', round=9, train_out=None, query_out='/home/melissap/Desktop/LAGO_43integrationDemo/pixano/temp_data/output_queries/queries_9.csv', seeds=[1, 10, 100, 1000, 10000], init_lb_method='general_random', log_dir='/home/melissap/Desktop/LAGO_43integrationDemo/pixano/ActiveLearning/certh_integration/alpha_mix_active_learning/_logs', save_checkpoints=False, save_images=False, print_to_file=False, query_growth_ratio=1, n_drop=5, eps=0.05, max_iter=50, alpha_cap=0.03125, alpha_opt=False, alpha_closed_form_approx=True, alpha_learning_rate=0.1, alpha_clf_coef=1.0, alpha_l2_coef=0.01, alpha_learning_iters=5, alpha_learn_batch_size=1000000)\n",
      "args.pixano_al_module  /home/melissap/Desktop/LAGO_43integrationDemo/pixano/ActiveLearning\n",
      "Loading data ...\n",
      "number of labeled pool: 18000\n",
      "number of unlabeled pool: 37000\n",
      "number of validation pool: 0\n",
      "number of testing pool: 10998\n",
      "Data loaded ...\n",
      "Using cuda device.\n"
     ]
    },
    {
     "name": "stderr",
     "output_type": "stream",
     "text": [
      "/home/melissap/miniconda3/envs/customLearner/lib/python3.10/site-packages/torchvision/models/_utils.py:208: UserWarning: The parameter 'pretrained' is deprecated since 0.13 and may be removed in the future, please use 'weights' instead.\n",
      "  warnings.warn(\n",
      "/home/melissap/miniconda3/envs/customLearner/lib/python3.10/site-packages/torchvision/models/_utils.py:223: UserWarning: Arguments other than a weight enum or `None` for 'weights' are deprecated since 0.13 and may be removed in the future. The current behavior is equivalent to passing `weights=None`.\n",
      "  warnings.warn(msg)\n"
     ]
    },
    {
     "name": "stdout",
     "output_type": "stream",
     "text": [
      "Loading weights resnet18_CIFAR11_guns_pixano_v1_CoreSet_8_weights.pth\n",
      "CIFAR11_guns_pixano_v1\n",
      "SEED 1\n",
      "CoreSet\n",
      "Round 9\n",
      "query budget: 2000\n",
      "\n",
      "\n",
      "######################################################### AL ROUND 9 mode query : END ##########################################################\n",
      "\n",
      "\n",
      "Round 9 tagged\n",
      "2000 candidates on round 9\n",
      "AutoAnnotator: round 9 annotated.\n",
      "\n",
      "\n",
      "######################################################## AL ROUND 9 mode train : START #########################################################\n",
      "\n",
      "\n",
      "Namespace(mode='train', data_name='CIFAR11_guns_pixano_v1', n_label='None', n_init_lb=10, n_query=100, data_dir='/home/melissap/_pixano_datasets_/CIFAR11_guns_pixano_v1', pixano_al_module='/home/melissap/Desktop/LAGO_43integrationDemo/pixano/ActiveLearning', strategy='CoreSet', round=9, train_out='/home/melissap/Desktop/LAGO_43integrationDemo/pixano/temp_data/output_accuracy/accuracy.csv', query_out='path to the file', seeds=[1, 10, 100, 1000, 10000], init_lb_method='general_random', log_dir='/home/melissap/Desktop/LAGO_43integrationDemo/pixano/ActiveLearning/certh_integration/alpha_mix_active_learning/_logs', save_checkpoints=False, save_images=False, print_to_file=False, query_growth_ratio=1, n_drop=5, eps=0.05, max_iter=50, alpha_cap=0.03125, alpha_opt=False, alpha_closed_form_approx=True, alpha_learning_rate=0.1, alpha_clf_coef=1.0, alpha_l2_coef=0.01, alpha_learning_iters=5, alpha_learn_batch_size=1000000)\n",
      "args.pixano_al_module  /home/melissap/Desktop/LAGO_43integrationDemo/pixano/ActiveLearning\n",
      "Loading data ...\n",
      "number of labeled pool: 20000\n",
      "number of unlabeled pool: 35000\n",
      "number of validation pool: 0\n",
      "number of testing pool: 10998\n",
      "Data loaded ...\n",
      "Using cuda device.\n"
     ]
    },
    {
     "name": "stderr",
     "output_type": "stream",
     "text": [
      "/home/melissap/miniconda3/envs/customLearner/lib/python3.10/site-packages/torchvision/models/_utils.py:208: UserWarning: The parameter 'pretrained' is deprecated since 0.13 and may be removed in the future, please use 'weights' instead.\n",
      "  warnings.warn(\n",
      "/home/melissap/miniconda3/envs/customLearner/lib/python3.10/site-packages/torchvision/models/_utils.py:223: UserWarning: Arguments other than a weight enum or `None` for 'weights' are deprecated since 0.13 and may be removed in the future. The current behavior is equivalent to passing `weights=None`.\n",
      "  warnings.warn(msg)\n"
     ]
    },
    {
     "name": "stdout",
     "output_type": "stream",
     "text": [
      "CIFAR11_guns_pixano_v1\n",
      "SEED 1\n",
      "CoreSet\n",
      "Adam optimizer...\n",
      "Loading weights resnet18_CIFAR11_guns_pixano_v1_CoreSet_8_weights.pth\n",
      " Print the weights of the model to ensure that weights are loaded \n",
      "Training started...\n"
     ]
    },
    {
     "name": "stderr",
     "output_type": "stream",
     "text": [
      "  2%|▏         | 2/100 [00:33<27:18, 16.72s/it]"
     ]
    },
    {
     "name": "stdout",
     "output_type": "stream",
     "text": [
      "Reached max accuracy at epoch 2 \n"
     ]
    },
    {
     "name": "stderr",
     "output_type": "stream",
     "text": [
      "  2%|▏         | 2/100 [00:49<40:48, 24.99s/it]\n"
     ]
    },
    {
     "name": "stdout",
     "output_type": "stream",
     "text": [
      "Round 0\n",
      "testing accuracy 0.6420258228768867\n",
      "\n",
      "\n",
      "######################################################### AL ROUND 9 mode train : END ##########################################################\n",
      "\n",
      "\n"
     ]
    }
   ],
   "source": [
    "for round in range(num_rounds):\n",
    "    candidates = init_learner.query(round)\n",
    "    init_learner.annotate(round)\n",
    "    init_learner.train(round, epochs=\"nevermind\")"
   ]
  }
 ],
 "metadata": {
  "kernelspec": {
   "display_name": "Python 3.10.13 ('pixano_env3')",
   "language": "python",
   "name": "python3"
  },
  "language_info": {
   "codemirror_mode": {
    "name": "ipython",
    "version": 3
   },
   "file_extension": ".py",
   "mimetype": "text/x-python",
   "name": "python",
   "nbconvert_exporter": "python",
   "pygments_lexer": "ipython3",
   "version": "3.10.13"
  },
  "orig_nbformat": 4,
  "vscode": {
   "interpreter": {
    "hash": "faa21598805a2aeab7a6cebb281d986b89a84993d64c8b80ad12581d75a6a376"
   }
  }
 },
 "nbformat": 4,
 "nbformat_minor": 2
}
