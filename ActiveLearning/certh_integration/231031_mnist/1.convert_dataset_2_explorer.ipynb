{
 "cells": [
  {
   "cell_type": "code",
   "execution_count": 1,
   "metadata": {},
   "outputs": [
    {
     "data": {
      "text/plain": [
       "'\\nIn this notebook we will convert the MNIST dataset into Pixano Format\\n'"
      ]
     },
     "execution_count": 1,
     "metadata": {},
     "output_type": "execute_result"
    }
   ],
   "source": [
    "\"\"\"\n",
    "In this notebook we will convert the MNIST dataset into Pixano Format\n",
    "\"\"\""
   ]
  },
  {
   "cell_type": "code",
   "execution_count": 1,
   "metadata": {},
   "outputs": [],
   "source": [
    "# give a name to the new dataset\n",
    "DATASET_NAME=\"MNIST_pixano_v7\""
   ]
  },
  {
   "cell_type": "code",
   "execution_count": 2,
   "metadata": {},
   "outputs": [
    {
     "name": "stdout",
     "output_type": "stream",
     "text": [
      "/home/melissap/Desktop/LAGO_43integrationDemo/pixano/ActiveLearning/certh_integration/231031_mnist\n",
      "/home/melissap/Desktop/LAGO_43integrationDemo/pixano/ActiveLearning/certh_integration\n",
      "/home/melissap/Desktop/LAGO_43integrationDemo/pixano/ActiveLearning\n",
      "Inserting parent dir :  /home/melissap/Desktop/LAGO_43integrationDemo/pixano\n"
     ]
    }
   ],
   "source": [
    "# import ROOT dir to import pixano root module\n",
    "\n",
    "import os\n",
    "import sys\n",
    "\n",
    "def insertRootDir(ROOTDIR='pixano'):\n",
    "    pardir=os.path.dirname(os.path.realpath('__file__'))\n",
    "\n",
    "    while(os.path.basename(pardir)!=ROOTDIR):\n",
    "\n",
    "        print(pardir)\n",
    "        pardir=os.path.dirname(pardir)\n",
    "        # print(os.path.basename(pardir))\n",
    "    print(\"Inserting parent dir : \",pardir)\n",
    "    sys.path.insert(0,pardir)\n",
    "\n",
    "insertRootDir()"
   ]
  },
  {
   "cell_type": "code",
   "execution_count": 3,
   "metadata": {},
   "outputs": [
    {
     "name": "stdout",
     "output_type": "stream",
     "text": [
      "/home/melissap/miniconda3/envs/pixano/lib/python3.10/site-packages/pixano/apps/explorer/dist/assets\n"
     ]
    }
   ],
   "source": [
    "from pathlib import Path\n",
    "\n",
    "from pixano.apps import Explorer\n",
    "from pixano.data import ImageImporter, MnistImporter"
   ]
  },
  {
   "cell_type": "code",
   "execution_count": 5,
   "metadata": {},
   "outputs": [],
   "source": [
    "# download mnist and convert it to an image dataset\n",
    "from torchvision import datasets\n",
    "from PIL import Image\n",
    "import os\n",
    "import numpy as np\n",
    "import pandas as pd\n",
    "\n",
    "\n",
    "def get_MNIST(data_dir):\n",
    "\n",
    "    image_dir = os.path.join(data_dir,\"images\")\n",
    "    annotation_dir = os.path.join(data_dir,\"annotations\")\n",
    "    train_imdir = os.path.join(image_dir,\"train\")\n",
    "    val_imdir = os.path.join(image_dir,\"val\")\n",
    "    test_imdir = os.path.join(image_dir,\"test\")\n",
    "\n",
    "    train_andir = os.path.join(annotation_dir,\"train\")\n",
    "    val_andir = os.path.join(annotation_dir,\"val\")\n",
    "    test_andir = os.path.join(annotation_dir,\"test\")\n",
    "    \n",
    "    if os.path.isdir(image_dir) and os.path.isdir(annotation_dir):\n",
    "       pass\n",
    "    else: \n",
    "        try:\n",
    "            os.makedirs(image_dir)\n",
    "            os.makedirs(annotation_dir)\n",
    "            os.makedirs(train_imdir)\n",
    "            os.makedirs(val_imdir)\n",
    "            os.makedirs(test_imdir)\n",
    "            os.makedirs(train_andir)\n",
    "            os.makedirs(val_andir)\n",
    "            os.makedirs(test_andir)\n",
    "        except:\n",
    "            pass\n",
    "\n",
    "        raw_tr = datasets.MNIST(os.path.join(data_dir, 'MNIST'), train=True, download=True)\n",
    "        raw_te = datasets.MNIST(os.path.join(data_dir, 'MNIST'), train=False, download=True)\n",
    "        X_tr = raw_tr.data\n",
    "        Y_tr = raw_tr.targets\n",
    "        X_te = raw_te.data\n",
    "        Y_te = raw_te.targets\n",
    "\n",
    "        for i in range(len(X_tr)):\n",
    "            x=X_tr[i].numpy()\n",
    "            im = Image.fromarray(x)\n",
    "            savepath = os.path.join(train_imdir,str(i)+\".jpeg\")\n",
    "            im.save(savepath)\n",
    "\n",
    "        for i in range(len(X_te)):\n",
    "            x=X_tr[i].numpy()\n",
    "            im = Image.fromarray(x)\n",
    "            savepath = os.path.join(test_imdir,str(i)+\".jpeg\")\n",
    "            im.save(savepath)\n",
    "\n",
    "        y=pd.DataFrame(Y_tr.numpy())\n",
    "        savepath = os.path.join(train_andir,\"dataframe.csv\")\n",
    "        y.to_csv(savepath,index=False)\n",
    "            \n",
    "        y=pd.DataFrame(Y_te.numpy())\n",
    "        savepath = os.path.join(test_andir,\"dataframe.csv\")\n",
    "        y.to_csv(savepath,index=False)"
   ]
  },
  {
   "cell_type": "code",
   "execution_count": 6,
   "metadata": {},
   "outputs": [],
   "source": [
    "datasets_dir=\"/home/melissap/Desktop/LAGO/3.githubs/integration/datasets\"\n",
    "mnist_dir=Path(os.path.join(datasets_dir,\"MNIST\"))\n",
    "\n",
    "# Dataset information\n",
    "name = \"Mnist dataset\"\n",
    "description = \"http://yann.lecun.com/exdb/mnist/\"\n",
    "splits = [\"train\", \"test\"] # \"val\",\n",
    "\n",
    "# Input information\n",
    "input_dirs = {\n",
    "    \"image\": mnist_dir / \"images\" #,\n",
    "    # \"objects\": library_dir / \"annotations\",\n",
    "}\n",
    "\n",
    "library_dir=Path('/home/melissap/_pixano_datasets_')\n",
    "import_dir = library_dir / DATASET_NAME #(\"MNIST_pixano\"+\"_\"+str(dt))\n",
    "\n",
    "get_MNIST(mnist_dir)"
   ]
  },
  {
   "cell_type": "code",
   "execution_count": null,
   "metadata": {},
   "outputs": [],
   "source": [
    "help(ImageImporter.import_dataset)"
   ]
  },
  {
   "cell_type": "code",
   "execution_count": 8,
   "metadata": {},
   "outputs": [
    {
     "data": {
      "application/vnd.jupyter.widget-view+json": {
       "model_id": "6c49b3c0eaba491fa40ee121e4789aa5",
       "version_major": 2,
       "version_minor": 0
      },
      "text/plain": [
       "Importing dataset: 0it [00:00, ?it/s]"
      ]
     },
     "metadata": {},
     "output_type": "display_data"
    },
    {
     "data": {
      "application/vnd.jupyter.widget-view+json": {
       "model_id": "0170b174fa33454cb4994fd685c5796d",
       "version_major": 2,
       "version_minor": 0
      },
      "text/plain": [
       "Copying media directories:   0%|          | 0/1 [00:00<?, ?it/s]"
      ]
     },
     "metadata": {},
     "output_type": "display_data"
    },
    {
     "data": {
      "application/vnd.jupyter.widget-view+json": {
       "model_id": "497b6ce80d764d1a95a6702b4a0a054e",
       "version_major": 2,
       "version_minor": 0
      },
      "text/plain": [
       "Creating dataset info file:   0%|          | 0/1 [00:00<?, ?it/s]"
      ]
     },
     "metadata": {},
     "output_type": "display_data"
    },
    {
     "data": {
      "application/vnd.jupyter.widget-view+json": {
       "model_id": "e1370a8920d44a61befef441c9021451",
       "version_major": 2,
       "version_minor": 0
      },
      "text/plain": [
       "Creating dataset thumbnail:   0%|          | 0/1 [00:00<?, ?it/s]"
      ]
     },
     "metadata": {},
     "output_type": "display_data"
    },
    {
     "data": {
      "text/plain": [
       "<pixano.data.dataset.Dataset at 0x7fc3633bd7b0>"
      ]
     },
     "execution_count": 8,
     "metadata": {},
     "output_type": "execute_result"
    }
   ],
   "source": [
    "importer = ImageImporter(name, description, splits)\n",
    "importer.import_dataset(input_dirs, import_dir, portable=True)"
   ]
  },
  {
   "cell_type": "code",
   "execution_count": null,
   "metadata": {},
   "outputs": [],
   "source": [
    "explorer = Explorer(library_dir)\n",
    "explorer.display()"
   ]
  }
 ],
 "metadata": {
  "kernelspec": {
   "display_name": "Python 3.10.11 ('pixano')",
   "language": "python",
   "name": "python3"
  },
  "language_info": {
   "codemirror_mode": {
    "name": "ipython",
    "version": 3
   },
   "file_extension": ".py",
   "mimetype": "text/x-python",
   "name": "python",
   "nbconvert_exporter": "python",
   "pygments_lexer": "ipython3",
   "version": "3.10.11"
  },
  "orig_nbformat": 4,
  "vscode": {
   "interpreter": {
    "hash": "6604ca948f4575fb1939f96f2cd7df5de428f245d6855ef61050d788c6a2a026"
   }
  }
 },
 "nbformat": 4,
 "nbformat_minor": 2
}
