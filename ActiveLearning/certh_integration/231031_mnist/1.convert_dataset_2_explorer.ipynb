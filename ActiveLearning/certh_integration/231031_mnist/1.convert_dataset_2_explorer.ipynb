{
 "cells": [
  {
   "cell_type": "code",
   "execution_count": null,
   "metadata": {},
   "outputs": [],
   "source": [
    "\"\"\"\n",
    "In this notebook we will convert the MNIST dataset into Pixano Format\n",
    "\n",
    "Note: For running, activate the pixano env\n",
    "\"\"\""
   ]
  },
  {
   "cell_type": "markdown",
   "metadata": {},
   "source": [
    "### NOTE : Before running this notebook, set the value for the following variables"
   ]
  },
  {
   "cell_type": "code",
   "execution_count": 13,
   "metadata": {},
   "outputs": [],
   "source": [
    "# The root dir name of the current repo (i.e. pixano or pixano-main etc.)\n",
    "ROOTDIR='pixano_v1.0'\n",
    "# name of the dataset\n",
    "DATASET_NAME=\"MNIST_pixano_v1\"\n",
    "# directory where the raw mnist dataset will be saved to be transformed latter (images), and also to be used by the active learning auto-annotator (labels)\n",
    "datasets_dir=\"/home/melissap/Desktop/LAGO/3.githubs/integration/datasets\"\n",
    "# directory in which the transformed mnist dataset will be saved to be used by Pixano\n",
    "library_dir=\"/home/melissap/_pixano_datasets_\"\n"
   ]
  },
  {
   "cell_type": "markdown",
   "metadata": {},
   "source": [
    "## ... the rest of the notebook should run without any code adjustments/modifications."
   ]
  },
  {
   "cell_type": "code",
   "execution_count": 14,
   "metadata": {},
   "outputs": [],
   "source": [
    "import os\n",
    "import sys\n",
    "from pathlib import Path\n",
    "import shutil\n",
    "from PIL import Image\n",
    "import numpy as np\n",
    "import pandas as pd\n",
    "from torchvision import datasets"
   ]
  },
  {
   "cell_type": "code",
   "execution_count": 15,
   "metadata": {},
   "outputs": [
    {
     "name": "stdout",
     "output_type": "stream",
     "text": [
      "Inserting parent dir :  /home/melissap/Desktop/LAGO_43integrationDemo/pixano_v1.0\n"
     ]
    }
   ],
   "source": [
    "def insertRootDir(ROOTDIR='pixano'):\n",
    "    pardir=os.path.dirname(os.path.realpath('__file__'))\n",
    "\n",
    "    found = False\n",
    "    potential_root_dir = os.path.basename(os.path.dirname(os.path.dirname(os.path.dirname(os.path.dirname(os.path.realpath('__file__'))))))\n",
    "\n",
    "    while(os.path.basename(pardir)!=ROOTDIR):\n",
    "\n",
    "        # print(pardir)\n",
    "        pardir=os.path.dirname(pardir)\n",
    "        \n",
    "\n",
    "        if (os.path.basename(pardir) == ROOTDIR):\n",
    "            found = True\n",
    "            break\n",
    "        if (pardir == \"/\" ):\n",
    "            break\n",
    "    \n",
    "    if found:\n",
    "        print(\"Inserting parent dir : \",pardir)\n",
    "        sys.path.insert(0,pardir)\n",
    "        return pardir\n",
    "    else:\n",
    "        print(f\"ROOTDIR NOT FOUND. You may have to change ROOTDIR variable from : '{ROOTDIR}' to '{potential_root_dir}'\")\n",
    "        return \"_NOT_FOUND_\"\n",
    "\n",
    "ROOTDIR = insertRootDir(ROOTDIR)"
   ]
  },
  {
   "cell_type": "code",
   "execution_count": 16,
   "metadata": {},
   "outputs": [
    {
     "name": "stdout",
     "output_type": "stream",
     "text": [
      "/home/melissap/miniconda3/envs/pixano_env/lib/python3.10/site-packages/pixano/apps/explorer/dist/assets\n"
     ]
    }
   ],
   "source": [
    "from pixano.apps import Explorer\n",
    "from pixano.data import ImageImporter, MnistImporter"
   ]
  },
  {
   "cell_type": "code",
   "execution_count": 19,
   "metadata": {},
   "outputs": [],
   "source": [
    "def get_MNIST(data_dir):\n",
    "\n",
    "    framecounter = 0 \n",
    "    # downloads mnist and convert it to an image dataset\n",
    "\n",
    "    image_dir = os.path.join(data_dir,\"images\")\n",
    "    annotation_dir = os.path.join(data_dir,\"annotations\")\n",
    "    train_imdir = os.path.join(image_dir,\"train\")\n",
    "    val_imdir = os.path.join(image_dir,\"val\")\n",
    "    test_imdir = os.path.join(image_dir,\"test\")\n",
    "\n",
    "    raw_downloaDir = os.path.join(data_dir,\"raw_dataset\")\n",
    "\n",
    "    train_anfile = os.path.join(annotation_dir,\"train.csv\")\n",
    "    val_anfile = os.path.join(annotation_dir,\"val.csv\") # not used\n",
    "    test_anfile = os.path.join(annotation_dir,\"test.csv\")\n",
    "    \n",
    "    if os.path.isdir(image_dir) and os.path.isdir(annotation_dir):\n",
    "       pass\n",
    "    else: \n",
    "        try:\n",
    "            os.makedirs(image_dir)\n",
    "            os.makedirs(annotation_dir)\n",
    "            os.makedirs(train_imdir)\n",
    "            os.makedirs(val_imdir)\n",
    "            os.makedirs(test_imdir)\n",
    "        except:\n",
    "            pass\n",
    "\n",
    "        raw_tr = datasets.MNIST(raw_downloaDir, train=True, download=True)\n",
    "        raw_te = datasets.MNIST(raw_downloaDir, train=False, download=True)\n",
    "        X_tr = raw_tr.data\n",
    "        Y_tr = raw_tr.targets\n",
    "        X_te = raw_te.data\n",
    "        Y_te = raw_te.targets\n",
    "\n",
    "        for i in range(len(X_tr)):\n",
    "            x=X_tr[i].numpy()\n",
    "            im = Image.fromarray(x)\n",
    "            savepath = os.path.join(train_imdir,str(framecounter)+\".jpeg\")\n",
    "            im.save(savepath)\n",
    "            framecounter+=1\n",
    "\n",
    "        for i in range(len(X_te)):\n",
    "            x=X_te[i].numpy()\n",
    "            im = Image.fromarray(x)\n",
    "            savepath = os.path.join(test_imdir,str(framecounter)+\".jpeg\")\n",
    "            im.save(savepath)\n",
    "            framecounter+=1\n",
    "\n",
    "        y=pd.DataFrame(Y_tr.numpy())\n",
    "        y.to_csv(train_anfile,index=False)\n",
    "            \n",
    "        y=pd.DataFrame(Y_te.numpy())\n",
    "        y.to_csv(test_anfile,index=False)\n",
    "\n",
    "\n",
    "        # remove raw data\n",
    "        shutil.rmtree(raw_downloaDir)\n",
    "        print(f'Dataset succesfull downoladed within {data_dir}, framecounter = {framecounter}')"
   ]
  },
  {
   "cell_type": "code",
   "execution_count": 20,
   "metadata": {},
   "outputs": [
    {
     "name": "stdout",
     "output_type": "stream",
     "text": [
      "Downloading http://yann.lecun.com/exdb/mnist/train-images-idx3-ubyte.gz\n",
      "Downloading http://yann.lecun.com/exdb/mnist/train-images-idx3-ubyte.gz to /home/melissap/Desktop/LAGO/3.githubs/integration/datasets/MNIST/raw_dataset/MNIST/raw/train-images-idx3-ubyte.gz\n"
     ]
    },
    {
     "name": "stderr",
     "output_type": "stream",
     "text": [
      "100%|██████████| 9912422/9912422 [00:00<00:00, 71900068.39it/s]"
     ]
    },
    {
     "name": "stdout",
     "output_type": "stream",
     "text": [
      "Extracting /home/melissap/Desktop/LAGO/3.githubs/integration/datasets/MNIST/raw_dataset/MNIST/raw/train-images-idx3-ubyte.gz to /home/melissap/Desktop/LAGO/3.githubs/integration/datasets/MNIST/raw_dataset/MNIST/raw\n"
     ]
    },
    {
     "name": "stderr",
     "output_type": "stream",
     "text": [
      "\n"
     ]
    },
    {
     "name": "stdout",
     "output_type": "stream",
     "text": [
      "\n",
      "Downloading http://yann.lecun.com/exdb/mnist/train-labels-idx1-ubyte.gz\n",
      "Downloading http://yann.lecun.com/exdb/mnist/train-labels-idx1-ubyte.gz to /home/melissap/Desktop/LAGO/3.githubs/integration/datasets/MNIST/raw_dataset/MNIST/raw/train-labels-idx1-ubyte.gz\n"
     ]
    },
    {
     "name": "stderr",
     "output_type": "stream",
     "text": [
      "100%|██████████| 28881/28881 [00:00<00:00, 125659433.43it/s]\n"
     ]
    },
    {
     "name": "stdout",
     "output_type": "stream",
     "text": [
      "Extracting /home/melissap/Desktop/LAGO/3.githubs/integration/datasets/MNIST/raw_dataset/MNIST/raw/train-labels-idx1-ubyte.gz to /home/melissap/Desktop/LAGO/3.githubs/integration/datasets/MNIST/raw_dataset/MNIST/raw\n",
      "\n",
      "Downloading http://yann.lecun.com/exdb/mnist/t10k-images-idx3-ubyte.gz\n",
      "Downloading http://yann.lecun.com/exdb/mnist/t10k-images-idx3-ubyte.gz to /home/melissap/Desktop/LAGO/3.githubs/integration/datasets/MNIST/raw_dataset/MNIST/raw/t10k-images-idx3-ubyte.gz\n"
     ]
    },
    {
     "name": "stderr",
     "output_type": "stream",
     "text": [
      "100%|██████████| 1648877/1648877 [00:00<00:00, 34503893.46it/s]"
     ]
    },
    {
     "name": "stdout",
     "output_type": "stream",
     "text": [
      "Extracting /home/melissap/Desktop/LAGO/3.githubs/integration/datasets/MNIST/raw_dataset/MNIST/raw/t10k-images-idx3-ubyte.gz to /home/melissap/Desktop/LAGO/3.githubs/integration/datasets/MNIST/raw_dataset/MNIST/raw\n"
     ]
    },
    {
     "name": "stderr",
     "output_type": "stream",
     "text": [
      "\n"
     ]
    },
    {
     "name": "stdout",
     "output_type": "stream",
     "text": [
      "\n",
      "Downloading http://yann.lecun.com/exdb/mnist/t10k-labels-idx1-ubyte.gz\n",
      "Downloading http://yann.lecun.com/exdb/mnist/t10k-labels-idx1-ubyte.gz to /home/melissap/Desktop/LAGO/3.githubs/integration/datasets/MNIST/raw_dataset/MNIST/raw/t10k-labels-idx1-ubyte.gz\n"
     ]
    },
    {
     "name": "stderr",
     "output_type": "stream",
     "text": [
      "100%|██████████| 4542/4542 [00:00<00:00, 15968590.75it/s]\n"
     ]
    },
    {
     "name": "stdout",
     "output_type": "stream",
     "text": [
      "Extracting /home/melissap/Desktop/LAGO/3.githubs/integration/datasets/MNIST/raw_dataset/MNIST/raw/t10k-labels-idx1-ubyte.gz to /home/melissap/Desktop/LAGO/3.githubs/integration/datasets/MNIST/raw_dataset/MNIST/raw\n",
      "\n",
      "Dataset succesfull downoladed within /home/melissap/Desktop/LAGO/3.githubs/integration/datasets/MNIST, framecounter = 70000\n"
     ]
    }
   ],
   "source": [
    "mnist_dir=Path(os.path.join(datasets_dir,\"MNIST\"))\n",
    "\n",
    "# Dataset information\n",
    "name = \"Mnist dataset\"\n",
    "description = \"http://yann.lecun.com/exdb/mnist/\"\n",
    "splits = [\"train\", \"test\"] # \"val\",\n",
    "\n",
    "# Input information\n",
    "input_dirs = {\n",
    "    \"image\": mnist_dir / \"images\" #,\n",
    "    # \"objects\": library_dir / \"annotations\",\n",
    "}\n",
    "\n",
    "library_dir=Path(library_dir)\n",
    "import_dir = library_dir / DATASET_NAME #(\"MNIST_pixano\"+\"_\"+str(dt))\n",
    "\n",
    "get_MNIST(mnist_dir)"
   ]
  },
  {
   "cell_type": "code",
   "execution_count": 21,
   "metadata": {},
   "outputs": [
    {
     "name": "stdout",
     "output_type": "stream",
     "text": [
      "Help on function import_dataset in module pixano.data.importers.importer:\n",
      "\n",
      "import_dataset(self, input_dirs: dict[str, pathlib.Path], import_dir: pathlib.Path, portable: bool = False) -> pixano.data.dataset.Dataset\n",
      "    Import dataset to Pixano format\n",
      "    \n",
      "    Args:\n",
      "        input_dirs (dict[str, Path]): Input directories\n",
      "        import_dir (Path): Import directory\n",
      "        portable (bool, optional): True to copy or download files to import directory and use relative paths. Defaults to False.\n",
      "    \n",
      "    Returns:\n",
      "        Dataset: Imported dataset\n",
      "\n"
     ]
    }
   ],
   "source": [
    "help(ImageImporter.import_dataset)"
   ]
  },
  {
   "cell_type": "code",
   "execution_count": 22,
   "metadata": {},
   "outputs": [
    {
     "name": "stderr",
     "output_type": "stream",
     "text": [
      "[2023-11-28T11:37:32Z WARN  lance::dataset] No existing dataset at /home/melissap/_pixano_datasets_/MNIST_pixano_v1/db.lance, it will be created\n",
      "[2023-11-28T11:37:32Z WARN  lance::dataset] No existing dataset at /home/melissap/_pixano_datasets_/MNIST_pixano_v1/image.lance, it will be created\n"
     ]
    },
    {
     "data": {
      "application/vnd.jupyter.widget-view+json": {
       "model_id": "65e56ae476774474a072a5f3b5d4b12c",
       "version_major": 2,
       "version_minor": 0
      },
      "text/plain": [
       "Importing dataset: 0it [00:00, ?it/s]"
      ]
     },
     "metadata": {},
     "output_type": "display_data"
    },
    {
     "data": {
      "application/vnd.jupyter.widget-view+json": {
       "model_id": "a1ba1e772fec48768217f85945f990b3",
       "version_major": 2,
       "version_minor": 0
      },
      "text/plain": [
       "Copying media directories:   0%|          | 0/1 [00:00<?, ?it/s]"
      ]
     },
     "metadata": {},
     "output_type": "display_data"
    },
    {
     "data": {
      "application/vnd.jupyter.widget-view+json": {
       "model_id": "29d5218949084e5fbfe96d6af9aa41bf",
       "version_major": 2,
       "version_minor": 0
      },
      "text/plain": [
       "Creating dataset info file:   0%|          | 0/1 [00:00<?, ?it/s]"
      ]
     },
     "metadata": {},
     "output_type": "display_data"
    },
    {
     "data": {
      "application/vnd.jupyter.widget-view+json": {
       "model_id": "d8e9ddfa804f4b9c90aec989ab80c3a4",
       "version_major": 2,
       "version_minor": 0
      },
      "text/plain": [
       "Creating dataset thumbnail:   0%|          | 0/1 [00:00<?, ?it/s]"
      ]
     },
     "metadata": {},
     "output_type": "display_data"
    },
    {
     "data": {
      "text/plain": [
       "<pixano.data.dataset.Dataset at 0x7f8ce3c4ab00>"
      ]
     },
     "execution_count": 22,
     "metadata": {},
     "output_type": "execute_result"
    }
   ],
   "source": [
    "importer = ImageImporter(name, description, splits)\n",
    "importer.import_dataset(input_dirs, import_dir, portable=True)"
   ]
  },
  {
   "cell_type": "markdown",
   "metadata": {},
   "source": [
    "### !ERROR: Here we found and issue. explorer doesn't return a localhost port for opening Pixano GUI. A fix is required."
   ]
  },
  {
   "cell_type": "code",
   "execution_count": null,
   "metadata": {},
   "outputs": [],
   "source": [
    "explorer = Explorer(library_dir)\n",
    "explorer.display()"
   ]
  }
 ],
 "metadata": {
  "kernelspec": {
   "display_name": "Python 3.10.13 ('pixano_env3')",
   "language": "python",
   "name": "python3"
  },
  "language_info": {
   "codemirror_mode": {
    "name": "ipython",
    "version": 3
   },
   "file_extension": ".py",
   "mimetype": "text/x-python",
   "name": "python",
   "nbconvert_exporter": "python",
   "pygments_lexer": "ipython3",
   "version": "3.10.13"
  },
  "orig_nbformat": 4,
  "vscode": {
   "interpreter": {
    "hash": "faa21598805a2aeab7a6cebb281d986b89a84993d64c8b80ad12581d75a6a376"
   }
  }
 },
 "nbformat": 4,
 "nbformat_minor": 2
}
